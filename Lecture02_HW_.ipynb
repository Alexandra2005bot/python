{
  "cells": [
    {
      "cell_type": "markdown",
      "metadata": {
        "id": "wwwwWuCXtBqf"
      },
      "source": [
        "# Задачи к Лекции 2\n",
        "\n",
        "__Исходные данные__\n",
        "\n",
        "Дан файл **\"mlbootcamp5_train.csv\"**. В нем содержатся данные об опросе 70000 пациентов с целью определения наличия заболеваний сердечно-сосудистой системы (ССЗ). Данные в файле промаркированы и если у человека имееются ССЗ, то значение **cardio** будет равно 1, в противном случае - 0. Описание и значения полей представлены во второй лекции.\n",
        "\n",
        "__Загрузка файла__"
      ]
    },
    {
      "cell_type": "code",
      "execution_count": 1,
      "metadata": {
        "id": "RRn04zSXtBqi",
        "outputId": "2178d5be-fdc8-42c1-9965-c8e651f3cccf",
        "colab": {
          "base_uri": "https://localhost:8080/",
          "height": 237
        }
      },
      "outputs": [
        {
          "output_type": "execute_result",
          "data": {
            "text/plain": [
              "      age  gender  height  weight  ap_hi  ap_lo  cholesterol  gluc  smoke  \\\n",
              "id                                                                          \n",
              "0   18393       2     168    62.0    110     80            1     1      0   \n",
              "1   20228       1     156    85.0    140     90            3     1      0   \n",
              "2   18857       1     165    64.0    130     70            3     1      0   \n",
              "3   17623       2     169    82.0    150    100            1     1      0   \n",
              "4   17474       1     156    56.0    100     60            1     1      0   \n",
              "\n",
              "    alco  active  cardio  \n",
              "id                        \n",
              "0      0       1       0  \n",
              "1      0       1       1  \n",
              "2      0       0       1  \n",
              "3      0       1       1  \n",
              "4      0       0       0  "
            ],
            "text/html": [
              "\n",
              "  <div id=\"df-0e8decab-8ca4-41bb-884a-976eacd4519e\" class=\"colab-df-container\">\n",
              "    <div>\n",
              "<style scoped>\n",
              "    .dataframe tbody tr th:only-of-type {\n",
              "        vertical-align: middle;\n",
              "    }\n",
              "\n",
              "    .dataframe tbody tr th {\n",
              "        vertical-align: top;\n",
              "    }\n",
              "\n",
              "    .dataframe thead th {\n",
              "        text-align: right;\n",
              "    }\n",
              "</style>\n",
              "<table border=\"1\" class=\"dataframe\">\n",
              "  <thead>\n",
              "    <tr style=\"text-align: right;\">\n",
              "      <th></th>\n",
              "      <th>age</th>\n",
              "      <th>gender</th>\n",
              "      <th>height</th>\n",
              "      <th>weight</th>\n",
              "      <th>ap_hi</th>\n",
              "      <th>ap_lo</th>\n",
              "      <th>cholesterol</th>\n",
              "      <th>gluc</th>\n",
              "      <th>smoke</th>\n",
              "      <th>alco</th>\n",
              "      <th>active</th>\n",
              "      <th>cardio</th>\n",
              "    </tr>\n",
              "    <tr>\n",
              "      <th>id</th>\n",
              "      <th></th>\n",
              "      <th></th>\n",
              "      <th></th>\n",
              "      <th></th>\n",
              "      <th></th>\n",
              "      <th></th>\n",
              "      <th></th>\n",
              "      <th></th>\n",
              "      <th></th>\n",
              "      <th></th>\n",
              "      <th></th>\n",
              "      <th></th>\n",
              "    </tr>\n",
              "  </thead>\n",
              "  <tbody>\n",
              "    <tr>\n",
              "      <th>0</th>\n",
              "      <td>18393</td>\n",
              "      <td>2</td>\n",
              "      <td>168</td>\n",
              "      <td>62.0</td>\n",
              "      <td>110</td>\n",
              "      <td>80</td>\n",
              "      <td>1</td>\n",
              "      <td>1</td>\n",
              "      <td>0</td>\n",
              "      <td>0</td>\n",
              "      <td>1</td>\n",
              "      <td>0</td>\n",
              "    </tr>\n",
              "    <tr>\n",
              "      <th>1</th>\n",
              "      <td>20228</td>\n",
              "      <td>1</td>\n",
              "      <td>156</td>\n",
              "      <td>85.0</td>\n",
              "      <td>140</td>\n",
              "      <td>90</td>\n",
              "      <td>3</td>\n",
              "      <td>1</td>\n",
              "      <td>0</td>\n",
              "      <td>0</td>\n",
              "      <td>1</td>\n",
              "      <td>1</td>\n",
              "    </tr>\n",
              "    <tr>\n",
              "      <th>2</th>\n",
              "      <td>18857</td>\n",
              "      <td>1</td>\n",
              "      <td>165</td>\n",
              "      <td>64.0</td>\n",
              "      <td>130</td>\n",
              "      <td>70</td>\n",
              "      <td>3</td>\n",
              "      <td>1</td>\n",
              "      <td>0</td>\n",
              "      <td>0</td>\n",
              "      <td>0</td>\n",
              "      <td>1</td>\n",
              "    </tr>\n",
              "    <tr>\n",
              "      <th>3</th>\n",
              "      <td>17623</td>\n",
              "      <td>2</td>\n",
              "      <td>169</td>\n",
              "      <td>82.0</td>\n",
              "      <td>150</td>\n",
              "      <td>100</td>\n",
              "      <td>1</td>\n",
              "      <td>1</td>\n",
              "      <td>0</td>\n",
              "      <td>0</td>\n",
              "      <td>1</td>\n",
              "      <td>1</td>\n",
              "    </tr>\n",
              "    <tr>\n",
              "      <th>4</th>\n",
              "      <td>17474</td>\n",
              "      <td>1</td>\n",
              "      <td>156</td>\n",
              "      <td>56.0</td>\n",
              "      <td>100</td>\n",
              "      <td>60</td>\n",
              "      <td>1</td>\n",
              "      <td>1</td>\n",
              "      <td>0</td>\n",
              "      <td>0</td>\n",
              "      <td>0</td>\n",
              "      <td>0</td>\n",
              "    </tr>\n",
              "  </tbody>\n",
              "</table>\n",
              "</div>\n",
              "    <div class=\"colab-df-buttons\">\n",
              "\n",
              "  <div class=\"colab-df-container\">\n",
              "    <button class=\"colab-df-convert\" onclick=\"convertToInteractive('df-0e8decab-8ca4-41bb-884a-976eacd4519e')\"\n",
              "            title=\"Convert this dataframe to an interactive table.\"\n",
              "            style=\"display:none;\">\n",
              "\n",
              "  <svg xmlns=\"http://www.w3.org/2000/svg\" height=\"24px\" viewBox=\"0 -960 960 960\">\n",
              "    <path d=\"M120-120v-720h720v720H120Zm60-500h600v-160H180v160Zm220 220h160v-160H400v160Zm0 220h160v-160H400v160ZM180-400h160v-160H180v160Zm440 0h160v-160H620v160ZM180-180h160v-160H180v160Zm440 0h160v-160H620v160Z\"/>\n",
              "  </svg>\n",
              "    </button>\n",
              "\n",
              "  <style>\n",
              "    .colab-df-container {\n",
              "      display:flex;\n",
              "      gap: 12px;\n",
              "    }\n",
              "\n",
              "    .colab-df-convert {\n",
              "      background-color: #E8F0FE;\n",
              "      border: none;\n",
              "      border-radius: 50%;\n",
              "      cursor: pointer;\n",
              "      display: none;\n",
              "      fill: #1967D2;\n",
              "      height: 32px;\n",
              "      padding: 0 0 0 0;\n",
              "      width: 32px;\n",
              "    }\n",
              "\n",
              "    .colab-df-convert:hover {\n",
              "      background-color: #E2EBFA;\n",
              "      box-shadow: 0px 1px 2px rgba(60, 64, 67, 0.3), 0px 1px 3px 1px rgba(60, 64, 67, 0.15);\n",
              "      fill: #174EA6;\n",
              "    }\n",
              "\n",
              "    .colab-df-buttons div {\n",
              "      margin-bottom: 4px;\n",
              "    }\n",
              "\n",
              "    [theme=dark] .colab-df-convert {\n",
              "      background-color: #3B4455;\n",
              "      fill: #D2E3FC;\n",
              "    }\n",
              "\n",
              "    [theme=dark] .colab-df-convert:hover {\n",
              "      background-color: #434B5C;\n",
              "      box-shadow: 0px 1px 3px 1px rgba(0, 0, 0, 0.15);\n",
              "      filter: drop-shadow(0px 1px 2px rgba(0, 0, 0, 0.3));\n",
              "      fill: #FFFFFF;\n",
              "    }\n",
              "  </style>\n",
              "\n",
              "    <script>\n",
              "      const buttonEl =\n",
              "        document.querySelector('#df-0e8decab-8ca4-41bb-884a-976eacd4519e button.colab-df-convert');\n",
              "      buttonEl.style.display =\n",
              "        google.colab.kernel.accessAllowed ? 'block' : 'none';\n",
              "\n",
              "      async function convertToInteractive(key) {\n",
              "        const element = document.querySelector('#df-0e8decab-8ca4-41bb-884a-976eacd4519e');\n",
              "        const dataTable =\n",
              "          await google.colab.kernel.invokeFunction('convertToInteractive',\n",
              "                                                    [key], {});\n",
              "        if (!dataTable) return;\n",
              "\n",
              "        const docLinkHtml = 'Like what you see? Visit the ' +\n",
              "          '<a target=\"_blank\" href=https://colab.research.google.com/notebooks/data_table.ipynb>data table notebook</a>'\n",
              "          + ' to learn more about interactive tables.';\n",
              "        element.innerHTML = '';\n",
              "        dataTable['output_type'] = 'display_data';\n",
              "        await google.colab.output.renderOutput(dataTable, element);\n",
              "        const docLink = document.createElement('div');\n",
              "        docLink.innerHTML = docLinkHtml;\n",
              "        element.appendChild(docLink);\n",
              "      }\n",
              "    </script>\n",
              "  </div>\n",
              "\n",
              "\n",
              "    <div id=\"df-5fbdb2be-207b-4233-b70e-aab2446e1212\">\n",
              "      <button class=\"colab-df-quickchart\" onclick=\"quickchart('df-5fbdb2be-207b-4233-b70e-aab2446e1212')\"\n",
              "                title=\"Suggest charts\"\n",
              "                style=\"display:none;\">\n",
              "\n",
              "<svg xmlns=\"http://www.w3.org/2000/svg\" height=\"24px\"viewBox=\"0 0 24 24\"\n",
              "     width=\"24px\">\n",
              "    <g>\n",
              "        <path d=\"M19 3H5c-1.1 0-2 .9-2 2v14c0 1.1.9 2 2 2h14c1.1 0 2-.9 2-2V5c0-1.1-.9-2-2-2zM9 17H7v-7h2v7zm4 0h-2V7h2v10zm4 0h-2v-4h2v4z\"/>\n",
              "    </g>\n",
              "</svg>\n",
              "      </button>\n",
              "\n",
              "<style>\n",
              "  .colab-df-quickchart {\n",
              "      --bg-color: #E8F0FE;\n",
              "      --fill-color: #1967D2;\n",
              "      --hover-bg-color: #E2EBFA;\n",
              "      --hover-fill-color: #174EA6;\n",
              "      --disabled-fill-color: #AAA;\n",
              "      --disabled-bg-color: #DDD;\n",
              "  }\n",
              "\n",
              "  [theme=dark] .colab-df-quickchart {\n",
              "      --bg-color: #3B4455;\n",
              "      --fill-color: #D2E3FC;\n",
              "      --hover-bg-color: #434B5C;\n",
              "      --hover-fill-color: #FFFFFF;\n",
              "      --disabled-bg-color: #3B4455;\n",
              "      --disabled-fill-color: #666;\n",
              "  }\n",
              "\n",
              "  .colab-df-quickchart {\n",
              "    background-color: var(--bg-color);\n",
              "    border: none;\n",
              "    border-radius: 50%;\n",
              "    cursor: pointer;\n",
              "    display: none;\n",
              "    fill: var(--fill-color);\n",
              "    height: 32px;\n",
              "    padding: 0;\n",
              "    width: 32px;\n",
              "  }\n",
              "\n",
              "  .colab-df-quickchart:hover {\n",
              "    background-color: var(--hover-bg-color);\n",
              "    box-shadow: 0 1px 2px rgba(60, 64, 67, 0.3), 0 1px 3px 1px rgba(60, 64, 67, 0.15);\n",
              "    fill: var(--button-hover-fill-color);\n",
              "  }\n",
              "\n",
              "  .colab-df-quickchart-complete:disabled,\n",
              "  .colab-df-quickchart-complete:disabled:hover {\n",
              "    background-color: var(--disabled-bg-color);\n",
              "    fill: var(--disabled-fill-color);\n",
              "    box-shadow: none;\n",
              "  }\n",
              "\n",
              "  .colab-df-spinner {\n",
              "    border: 2px solid var(--fill-color);\n",
              "    border-color: transparent;\n",
              "    border-bottom-color: var(--fill-color);\n",
              "    animation:\n",
              "      spin 1s steps(1) infinite;\n",
              "  }\n",
              "\n",
              "  @keyframes spin {\n",
              "    0% {\n",
              "      border-color: transparent;\n",
              "      border-bottom-color: var(--fill-color);\n",
              "      border-left-color: var(--fill-color);\n",
              "    }\n",
              "    20% {\n",
              "      border-color: transparent;\n",
              "      border-left-color: var(--fill-color);\n",
              "      border-top-color: var(--fill-color);\n",
              "    }\n",
              "    30% {\n",
              "      border-color: transparent;\n",
              "      border-left-color: var(--fill-color);\n",
              "      border-top-color: var(--fill-color);\n",
              "      border-right-color: var(--fill-color);\n",
              "    }\n",
              "    40% {\n",
              "      border-color: transparent;\n",
              "      border-right-color: var(--fill-color);\n",
              "      border-top-color: var(--fill-color);\n",
              "    }\n",
              "    60% {\n",
              "      border-color: transparent;\n",
              "      border-right-color: var(--fill-color);\n",
              "    }\n",
              "    80% {\n",
              "      border-color: transparent;\n",
              "      border-right-color: var(--fill-color);\n",
              "      border-bottom-color: var(--fill-color);\n",
              "    }\n",
              "    90% {\n",
              "      border-color: transparent;\n",
              "      border-bottom-color: var(--fill-color);\n",
              "    }\n",
              "  }\n",
              "</style>\n",
              "\n",
              "      <script>\n",
              "        async function quickchart(key) {\n",
              "          const quickchartButtonEl =\n",
              "            document.querySelector('#' + key + ' button');\n",
              "          quickchartButtonEl.disabled = true;  // To prevent multiple clicks.\n",
              "          quickchartButtonEl.classList.add('colab-df-spinner');\n",
              "          try {\n",
              "            const charts = await google.colab.kernel.invokeFunction(\n",
              "                'suggestCharts', [key], {});\n",
              "          } catch (error) {\n",
              "            console.error('Error during call to suggestCharts:', error);\n",
              "          }\n",
              "          quickchartButtonEl.classList.remove('colab-df-spinner');\n",
              "          quickchartButtonEl.classList.add('colab-df-quickchart-complete');\n",
              "        }\n",
              "        (() => {\n",
              "          let quickchartButtonEl =\n",
              "            document.querySelector('#df-5fbdb2be-207b-4233-b70e-aab2446e1212 button');\n",
              "          quickchartButtonEl.style.display =\n",
              "            google.colab.kernel.accessAllowed ? 'block' : 'none';\n",
              "        })();\n",
              "      </script>\n",
              "    </div>\n",
              "    </div>\n",
              "  </div>\n"
            ],
            "application/vnd.google.colaboratory.intrinsic+json": {
              "type": "dataframe",
              "variable_name": "df",
              "summary": "{\n  \"name\": \"df\",\n  \"rows\": 70000,\n  \"fields\": [\n    {\n      \"column\": \"id\",\n      \"properties\": {\n        \"dtype\": \"number\",\n        \"std\": 28851,\n        \"min\": 0,\n        \"max\": 99999,\n        \"num_unique_values\": 70000,\n        \"samples\": [\n          66728,\n          69098,\n          59185\n        ],\n        \"semantic_type\": \"\",\n        \"description\": \"\"\n      }\n    },\n    {\n      \"column\": \"age\",\n      \"properties\": {\n        \"dtype\": \"number\",\n        \"std\": 2467,\n        \"min\": 10798,\n        \"max\": 23713,\n        \"num_unique_values\": 8076,\n        \"samples\": [\n          17317,\n          21437,\n          17627\n        ],\n        \"semantic_type\": \"\",\n        \"description\": \"\"\n      }\n    },\n    {\n      \"column\": \"gender\",\n      \"properties\": {\n        \"dtype\": \"number\",\n        \"std\": 0,\n        \"min\": 1,\n        \"max\": 2,\n        \"num_unique_values\": 2,\n        \"samples\": [\n          1,\n          2\n        ],\n        \"semantic_type\": \"\",\n        \"description\": \"\"\n      }\n    },\n    {\n      \"column\": \"height\",\n      \"properties\": {\n        \"dtype\": \"number\",\n        \"std\": 8,\n        \"min\": 55,\n        \"max\": 250,\n        \"num_unique_values\": 109,\n        \"samples\": [\n          125,\n          181\n        ],\n        \"semantic_type\": \"\",\n        \"description\": \"\"\n      }\n    },\n    {\n      \"column\": \"weight\",\n      \"properties\": {\n        \"dtype\": \"number\",\n        \"std\": 14.39575667851056,\n        \"min\": 10.0,\n        \"max\": 200.0,\n        \"num_unique_values\": 287,\n        \"samples\": [\n          68.0,\n          88.5\n        ],\n        \"semantic_type\": \"\",\n        \"description\": \"\"\n      }\n    },\n    {\n      \"column\": \"ap_hi\",\n      \"properties\": {\n        \"dtype\": \"number\",\n        \"std\": 154,\n        \"min\": -150,\n        \"max\": 16020,\n        \"num_unique_values\": 153,\n        \"samples\": [\n          11500,\n          17\n        ],\n        \"semantic_type\": \"\",\n        \"description\": \"\"\n      }\n    },\n    {\n      \"column\": \"ap_lo\",\n      \"properties\": {\n        \"dtype\": \"number\",\n        \"std\": 188,\n        \"min\": -70,\n        \"max\": 11000,\n        \"num_unique_values\": 157,\n        \"samples\": [\n          810,\n          8044\n        ],\n        \"semantic_type\": \"\",\n        \"description\": \"\"\n      }\n    },\n    {\n      \"column\": \"cholesterol\",\n      \"properties\": {\n        \"dtype\": \"number\",\n        \"std\": 0,\n        \"min\": 1,\n        \"max\": 3,\n        \"num_unique_values\": 3,\n        \"samples\": [\n          1,\n          3\n        ],\n        \"semantic_type\": \"\",\n        \"description\": \"\"\n      }\n    },\n    {\n      \"column\": \"gluc\",\n      \"properties\": {\n        \"dtype\": \"number\",\n        \"std\": 0,\n        \"min\": 1,\n        \"max\": 3,\n        \"num_unique_values\": 3,\n        \"samples\": [\n          1,\n          2\n        ],\n        \"semantic_type\": \"\",\n        \"description\": \"\"\n      }\n    },\n    {\n      \"column\": \"smoke\",\n      \"properties\": {\n        \"dtype\": \"number\",\n        \"std\": 0,\n        \"min\": 0,\n        \"max\": 1,\n        \"num_unique_values\": 2,\n        \"samples\": [\n          1,\n          0\n        ],\n        \"semantic_type\": \"\",\n        \"description\": \"\"\n      }\n    },\n    {\n      \"column\": \"alco\",\n      \"properties\": {\n        \"dtype\": \"number\",\n        \"std\": 0,\n        \"min\": 0,\n        \"max\": 1,\n        \"num_unique_values\": 2,\n        \"samples\": [\n          1,\n          0\n        ],\n        \"semantic_type\": \"\",\n        \"description\": \"\"\n      }\n    },\n    {\n      \"column\": \"active\",\n      \"properties\": {\n        \"dtype\": \"number\",\n        \"std\": 0,\n        \"min\": 0,\n        \"max\": 1,\n        \"num_unique_values\": 2,\n        \"samples\": [\n          0,\n          1\n        ],\n        \"semantic_type\": \"\",\n        \"description\": \"\"\n      }\n    },\n    {\n      \"column\": \"cardio\",\n      \"properties\": {\n        \"dtype\": \"number\",\n        \"std\": 0,\n        \"min\": 0,\n        \"max\": 1,\n        \"num_unique_values\": 2,\n        \"samples\": [\n          1,\n          0\n        ],\n        \"semantic_type\": \"\",\n        \"description\": \"\"\n      }\n    }\n  ]\n}"
            }
          },
          "metadata": {},
          "execution_count": 1
        }
      ],
      "source": [
        "%matplotlib inline\n",
        "import numpy as np\n",
        "import pandas as pd\n",
        "import seaborn as sns\n",
        "import sklearn\n",
        "from matplotlib import pyplot as plt\n",
        "import warnings\n",
        "warnings.filterwarnings('ignore')\n",
        "\n",
        "df = pd.read_csv(\"/content/mlbootcamp5_train.csv\",\n",
        "                 sep=\";\",\n",
        "                 index_col=\"id\")\n",
        "df.head()"
      ]
    },
    {
      "cell_type": "markdown",
      "metadata": {
        "id": "6SDy9hL3tBql"
      },
      "source": [
        "## Задачи"
      ]
    },
    {
      "cell_type": "markdown",
      "metadata": {
        "id": "n8kY6N0YtBqm"
      },
      "source": [
        "**1. Построить наивный байесовский классификатор для количественных полей age, height, weight, ap_hi, ap_lo. Исправить данные, если это необходимо. Привести матрицу неточностей и сравнить со значением полученным в ходе лекции. Попытаться объяснить разницу.**"
      ]
    },
    {
      "cell_type": "code",
      "execution_count": null,
      "metadata": {
        "id": "djYQ2YpDtBqn"
      },
      "outputs": [],
      "source": [
        "# Your code here"
      ]
    },
    {
      "cell_type": "markdown",
      "metadata": {
        "id": "hMsHL7MTtBqo"
      },
      "source": [
        "**Комментарии:** Ваши комментарии здесь."
      ]
    },
    {
      "cell_type": "markdown",
      "metadata": {
        "id": "OLNeIxygtBqo"
      },
      "source": [
        "**2. Написать свой наивный байесовский классификатор для категориальных полей cholesterol, gluc. Привести матрицу неточностей и сравнить со значениями из задачи 1 (нельзя использовать готовое решение из sklearn) (не обязательно)**"
      ]
    },
    {
      "cell_type": "code",
      "execution_count": null,
      "metadata": {
        "id": "Vkdj3MrmtBqp"
      },
      "outputs": [],
      "source": [
        "# Your code here"
      ]
    },
    {
      "cell_type": "markdown",
      "metadata": {
        "id": "qyrBuGxLtBqq"
      },
      "source": [
        "**Комментарии:** Ваши комментарии здесь."
      ]
    },
    {
      "cell_type": "markdown",
      "metadata": {
        "id": "A4bMlj1PtBqr"
      },
      "source": [
        "**3. Построить наивный байесовский классификатор для бинарных полей gender, smoke, alco, active. Привести матрицу неточностей и сравнить с предыдущими значениями.**"
      ]
    },
    {
      "cell_type": "code",
      "execution_count": null,
      "metadata": {
        "id": "fvny2U39tBqs"
      },
      "outputs": [],
      "source": [
        "# Your code here"
      ]
    },
    {
      "cell_type": "markdown",
      "metadata": {
        "id": "qQ8RjBQhtBqt"
      },
      "source": [
        "**Комментарии:** Ваши комментарии здесь."
      ]
    },
    {
      "cell_type": "markdown",
      "metadata": {
        "id": "wFPnNjY4tBqt"
      },
      "source": [
        "**4. К этому моменту у вас есть три независимых классификатора: по количественным полям, категориальным и бинарным. Придумать, как их объединить в один единый классификатор, который учитывает все эти поля. Привести матрицу неточностей для него и сравнить с предыдущими значениями. Попытаться объяснить разницу.**"
      ]
    },
    {
      "cell_type": "code",
      "execution_count": null,
      "metadata": {
        "id": "BaLUJPCAtBqu"
      },
      "outputs": [],
      "source": [
        "# A lot of code here"
      ]
    },
    {
      "cell_type": "markdown",
      "metadata": {
        "id": "DpDn5_zGtBqv"
      },
      "source": [
        "**Комментарии:** Ваши комментарии здесь."
      ]
    },
    {
      "cell_type": "markdown",
      "metadata": {
        "id": "lEpnw-nBtBqv"
      },
      "source": [
        "**5. (Не обязательно) Теперь мы умеем делать классификацию в рамках наивного предположения об независимости всех признаков. Сейчас же нужно попробовать учесть взаимосвязь между признаками через условные вероятности. Построить классификатор с учетом такой связи. Сравнить результат с ранее полученными значениями.**"
      ]
    },
    {
      "cell_type": "code",
      "execution_count": null,
      "metadata": {
        "id": "tRb243iqtBqw"
      },
      "outputs": [],
      "source": [
        "# A lot of code here"
      ]
    },
    {
      "cell_type": "markdown",
      "metadata": {
        "id": "sZlUYkXltBqw"
      },
      "source": [
        "**Комментарии:** Ваши комментарии здесь."
      ]
    },
    {
      "cell_type": "code",
      "source": [
        "# Загрузка библиотек\n",
        "%matplotlib inline\n",
        "import numpy as np\n",
        "import pandas as pd\n",
        "import seaborn as sns\n",
        "from sklearn.naive_bayes import GaussianNB, BernoulliNB\n",
        "from sklearn.metrics import confusion_matrix, ConfusionMatrixDisplay\n",
        "from sklearn.model_selection import train_test_split\n",
        "import matplotlib.pyplot as plt\n",
        "import warnings\n",
        "warnings.filterwarnings('ignore')\n",
        "\n",
        "#Загрузка данных\n",
        "df = pd.read_csv(\"/content/mlbootcamp5_train.csv\", sep=\";\", index_col=\"id\")\n",
        "df.head()\n",
        "\n",
        "#Наивный байес\n",
        "quant_features = ['age', 'height', 'weight', 'ap_hi', 'ap_lo']\n",
        "\n",
        "# Проверка\n",
        "print(\"Минимальные значения давления:\", df['ap_hi'].min(), df['ap_lo'].min())\n",
        "\n",
        "# Исправляем случаи, где ap_lo > ap_hi\n",
        "mask = df['ap_lo'] > df['ap_hi']\n",
        "df.loc[mask, ['ap_hi', 'ap_lo']] = df.loc[mask, ['ap_lo', 'ap_hi']].values\n",
        "\n",
        "#Данные на трэйн и тест\n",
        "X_quant = df[quant_features]\n",
        "y = df['cardio']\n",
        "Xq_train, Xq_test, y_train, y_test = train_test_split(X_quant, y, test_size=0.3, random_state=42, stratify=y)\n",
        "\n",
        "#Обучаем GaussianNB\n",
        "gnb = GaussianNB()\n",
        "gnb.fit(Xq_train, y_train)\n",
        "y_pred_gnb = gnb.predict(Xq_test)\n",
        "\n",
        "#Матрица неточностей\n",
        "cm_gnb = confusion_matrix(y_test, y_pred_gnb)\n",
        "print(\"Матрица неточностей (GaussianNB на количественных признаках):\")\n",
        "print(cm_gnb)\n",
        "disp = ConfusionMatrixDisplay(confusion_matrix=cm_gnb)\n",
        "disp.plot()\n",
        "plt.show()\n",
        "\n",
        "\n",
        "categorical_features = ['cholesterol', 'gluc']\n",
        "X_cat = df[categorical_features]\n",
        "\n",
        "#разделяем трэйн тест\n",
        "Xc_train, Xc_test, _, _ = train_test_split(X_cat, y, test_size=0.3, random_state=42, stratify=y)\n",
        "\n",
        "#баес\n",
        "class CategoricalNBCustom:\n",
        "    def fit(self, X, y):\n",
        "        self.classes = np.unique(y)\n",
        "        self.feature_probs = {}\n",
        "        self.class_priors = {}\n",
        "        for c in self.classes:\n",
        "            X_c = X[y == c]\n",
        "            self.class_priors[c] = len(X_c) / len(X)\n",
        "            self.feature_probs[c] = {}\n",
        "            for col in X.columns:\n",
        "                counts = X_c[col].value_counts()\n",
        "                total = len(X_c)\n",
        "\n",
        "                vals = X[col].unique()\n",
        "                probs = {}\n",
        "                for v in vals:\n",
        "                    probs[v] = (counts.get(v,0) + 1) / (total + len(vals))\n",
        "                self.feature_probs[c][col] = probs\n",
        "\n",
        "    def predict(self, X):\n",
        "        y_pred = []\n",
        "        for _, row in X.iterrows():\n",
        "            class_probs = {}\n",
        "            for c in self.classes:\n",
        "                prob = self.class_priors[c]\n",
        "                for col in X.columns:\n",
        "                    val = row[col]\n",
        "                    prob *= self.feature_probs[c][col].get(val, 1e-6)\n",
        "                class_probs[c] = prob\n",
        "            y_pred.append(max(class_probs, key=class_probs.get))\n",
        "        return np.array(y_pred)\n",
        "\n",
        "#Обучаем предсказываем\n",
        "cat_nb = CategoricalNBCustom()\n",
        "cat_nb.fit(Xc_train, y_train)\n",
        "y_pred_cat = cat_nb.predict(Xc_test)\n",
        "\n",
        "cm_cat = confusion_matrix(y_test, y_pred_cat)\n",
        "print(\"Матрица неточностей (свой NB на категориальных признаках):\")\n",
        "print(cm_cat)\n",
        "disp = ConfusionMatrixDisplay(confusion_matrix=cm_cat)\n",
        "disp.plot()\n",
        "plt.show()\n",
        "\n",
        "#баес для бинарных\n",
        "binary_features = ['gender', 'smoke', 'alco', 'active']\n",
        "X_bin = df[binary_features]\n",
        "Xb_train, Xb_test, _, _ = train_test_split(X_bin, y, test_size=0.3, random_state=42, stratify=y)\n",
        "\n",
        "# Используем BernoulliNB из sklearn\n",
        "bnb = BernoulliNB()\n",
        "bnb.fit(Xb_train, y_train)\n",
        "y_pred_bnb = bnb.predict(Xb_test)\n",
        "\n",
        "cm_bnb = confusion_matrix(y_test, y_pred_bnb)\n",
        "print(\"Матрица неточностей (BernoulliNB на бинарных признаках):\")\n",
        "print(cm_bnb)\n",
        "disp = ConfusionMatrixDisplay(confusion_matrix=cm_bnb)\n",
        "disp.plot()\n",
        "plt.show()\n",
        "\n",
        "\n",
        "# Для каждого классификатора получим вероятности классов для теста\n",
        "y_proba_gnb = gnb.predict_proba(Xq_test)\n",
        "y_proba_cat = []\n",
        "for _, row in Xc_test.iterrows():\n",
        "    class_probs = []\n",
        "    for c in cat_nb.classes:\n",
        "        prob = cat_nb.class_priors[c]\n",
        "        for col in Xc_test.columns:\n",
        "            val = row[col]\n",
        "            prob *= cat_nb.feature_probs[c][col].get(val, 1e-6)\n",
        "        class_probs.append(prob)\n",
        "    # Нормализация вероятностей\n",
        "    s = sum(class_probs)\n",
        "    class_probs = [p/s if s>0 else 0 for p in class_probs]\n",
        "    y_proba_cat.append(class_probs)\n",
        "y_proba_cat = np.array(y_proba_cat)\n",
        "\n",
        "y_proba_bnb = bnb.predict_proba(Xb_test)\n",
        "\n",
        "# Объединяем вероятности\n",
        "y_proba_combined = (y_proba_gnb + y_proba_cat + y_proba_bnb) / 3\n",
        "\n",
        "# Предсказания объединенного классификатора\n",
        "y_pred_combined = np.argmax(y_proba_combined, axis=1)\n",
        "\n",
        "cm_combined = confusion_matrix(y_test, y_pred_combined)\n",
        "print(\"Матрица неточностей (объединенный классификатор):\")\n",
        "print(cm_combined)\n",
        "disp = ConfusionMatrixDisplay(confusion_matrix=cm_combined)\n",
        "disp.plot()\n",
        "plt.show()\n",
        "\n",
        "# Сравним accuracy всех моделей\n",
        "from sklearn.metrics import accuracy_score\n",
        "\n",
        "acc_gnb = accuracy_score(y_test, y_pred_gnb)\n",
        "acc_cat = accuracy_score(y_test, y_pred_cat)\n",
        "acc_bnb = accuracy_score(y_test, y_pred_bnb)\n",
        "acc_combined = accuracy_score(y_test, y_pred_combined)\n",
        "\n",
        "print(f\"Accuracy GaussianNB (количественные): {acc_gnb:.4f}\")\n",
        "print(f\"Accuracy свой NB (категориальные): {acc_cat:.4f}\")\n",
        "print(f\"Accuracy BernoulliNB (бинарные): {acc_bnb:.4f}\")\n",
        "print(f\"Accuracy объединенный классификатор: {acc_combined:.4f}\")"
      ],
      "metadata": {
        "colab": {
          "base_uri": "https://localhost:8080/",
          "height": 1000
        },
        "id": "iUIX5T1hxSen",
        "outputId": "dc1174a6-7464-4ff0-939c-bb8b2e950fab"
      },
      "execution_count": 2,
      "outputs": [
        {
          "output_type": "stream",
          "name": "stdout",
          "text": [
            "Минимальные значения давления: -150 -70\n",
            "Матрица неточностей (GaussianNB на количественных признаках):\n",
            "[[9447 1059]\n",
            " [6954 3540]]\n"
          ]
        },
        {
          "output_type": "display_data",
          "data": {
            "text/plain": [
              "<Figure size 640x480 with 2 Axes>"
            ],
            "image/png": "[encoded data removed]"
          },
          "metadata": {}
        },
        {
          "output_type": "stream",
          "name": "stdout",
          "text": [
            "Матрица неточностей (свой NB на категориальных признаках):\n",
            "[[8232 2274]\n",
            " [6364 4130]]\n"
          ]
        },
        {
          "output_type": "display_data",
          "data": {
            "text/plain": [
              "<Figure size 640x480 with 2 Axes>"
            ],
            "image/png": "[encoded data removed]"
          },
          "metadata": {}
        },
        {
          "output_type": "stream",
          "name": "stdout",
          "text": [
            "Матрица неточностей (BernoulliNB на бинарных признаках):\n",
            "[[8641 1865]\n",
            " [8278 2216]]\n"
          ]
        },
        {
          "output_type": "display_data",
          "data": {
            "text/plain": [
              "<Figure size 640x480 with 2 Axes>"
            ],
            "image/png": "[encoded data removed]"
          },
          "metadata": {}
        },
        {
          "output_type": "stream",
          "name": "stdout",
          "text": [
            "Матрица неточностей (объединенный классификатор):\n",
            "[[9166 1340]\n",
            " [6314 4180]]\n"
          ]
        },
        {
          "output_type": "display_data",
          "data": {
            "text/plain": [
              "<Figure size 640x480 with 2 Axes>"
            ],
            "image/png": "[encoded data removed]"
          },
          "metadata": {}
        },
        {
          "output_type": "stream",
          "name": "stdout",
          "text": [
            "Accuracy GaussianNB (количественные): 0.6184\n",
            "Accuracy свой NB (категориальные): 0.5887\n",
            "Accuracy BernoulliNB (бинарные): 0.5170\n",
            "Accuracy объединенный классификатор: 0.6355\n"
          ]
        }
      ]
    },
    {
      "cell_type": "code",
      "execution_count": null,
      "metadata": {
        "id": "UM1X70jStBqx"
      },
      "outputs": [],
      "source": []
    }
  ],
  "metadata": {
    "kernelspec": {
      "display_name": "Python 3 (ipykernel)",
      "language": "python",
      "name": "python3"
    },
    "language_info": {
      "codemirror_mode": {
        "name": "ipython",
        "version": 3
      },
      "file_extension": ".py",
      "mimetype": "text/x-python",
      "name": "python",
      "nbconvert_exporter": "python",
      "pygments_lexer": "ipython3",
      "version": "3.10.9"
    },
    "colab": {
      "provenance": []
    }
  },
  "nbformat": 4,
  "nbformat_minor": 0
}