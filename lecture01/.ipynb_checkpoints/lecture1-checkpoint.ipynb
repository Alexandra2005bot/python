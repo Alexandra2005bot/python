{
  "cells": [
    {
      "cell_type": "markdown",
      "metadata": {
        "id": "ngFKwcREAarq"
      },
      "source": [
        "# Лекция 1. Основы Python\n",
        "\n",
        "* Установка Python\n",
        "* Первая программа\n",
        "* Основные типы данных и простейшие выражения"
      ]
    },
    {
      "cell_type": "code",
      "source": [],
      "metadata": {
        "id": "mKn3wUUuF6x7"
      },
      "execution_count": null,
      "outputs": []
    },
    {
      "cell_type": "markdown",
      "metadata": {
        "id": "A24s79VpAart"
      },
      "source": [
        "# Организация\n",
        "\n",
        "Все лекции будут располагаться по адресу: https://bitbucket.org/ml_tsu/pythonl-2020/src/master/\n",
        "\n",
        "Для тех, кто не знаком с git требуется пройти самоучитель: https://githowto.com/ru\n",
        "\n",
        "Для выполнения домашнего задания, каждый из вас должен зарегистрироваться на Github (https://github.com/) или на Bitbucket (https://bitbucket.org/).  Затем вы должны создать репозиторий, в котором вы будете хранить домашнее задание и которое я буду смотреть.\n",
        "\n",
        "Каждое решение должно располагаться в отдельной папке с название lectureXX, где XX - это номер лекции."
      ]
    },
    {
      "cell_type": "markdown",
      "metadata": {
        "id": "FQIY5mpzAaru"
      },
      "source": [
        "# Что мы будем делать?\n",
        "\n",
        "Мы будем изучать Python, создавая простенькую игру \"Крестики-нолики\", если не будет предложено более интересной задачи для изучения."
      ]
    },
    {
      "cell_type": "markdown",
      "metadata": {
        "id": "RggjvvHMAaru"
      },
      "source": [
        "# Литература\n",
        "\n",
        "* Марк Лутц \"Изучаем Python\" (5-ое издание)\n",
        "* Официальная документация Python (https://docs.python.org/3/)"
      ]
    },
    {
      "cell_type": "markdown",
      "metadata": {
        "id": "sTmBo0tJAarv"
      },
      "source": [
        "# Установка Python\n",
        "\n",
        "Актуальными версиями Python'a является версии 3.4+. Нередко еще можно встретить версию 2.7, но она официально признана устаревшей и больше не поддерживается создателем языка."
      ]
    },
    {
      "cell_type": "markdown",
      "metadata": {
        "id": "E2869tKgAarw"
      },
      "source": [
        "## Windows"
      ]
    },
    {
      "cell_type": "markdown",
      "metadata": {
        "id": "2mb32GmjAarw"
      },
      "source": [
        "1. Скачать и установить с официального сайта https://www.python.org/\n",
        "<br>**Плюсы:** только Python и ничего лишнего\n",
        "<br>**Минусы:** проблемы с установкой некоторых модулей\n",
        "\n",
        "2. Установить Anaconda: https://www.anaconda.com/products/individual#windows\n",
        "<br>**Плюсы:** легкая установка основных пакетов, используемых в машинном обучении\n",
        "<br>**Минусы:** все-таки содержит в себе не все доступные модули"
      ]
    },
    {
      "cell_type": "markdown",
      "metadata": {
        "id": "AweVgqjUAarx"
      },
      "source": [
        "## Linux\n",
        "\n",
        "Просто установит через любой менджер пакетов. Например:\n",
        "\n",
        "```\n",
        "sudo apt install python3\n",
        "```"
      ]
    },
    {
      "cell_type": "markdown",
      "metadata": {
        "id": "xZa81XhvAarx"
      },
      "source": [
        "## Когда все совсем плохо\n",
        "\n",
        "Если все очень плохо с возможностью установки Python'a, то вы можете воспользоваться Google Colab: https://colab.research.google.com/"
      ]
    },
    {
      "cell_type": "markdown",
      "metadata": {
        "id": "vaSa7Iv5Aary"
      },
      "source": [
        "# Организация работы\n",
        "\n",
        "* PyCharm - https://www.jetbrains.com/ru-ru/pycharm/\n",
        "* Visual Studio Code - https://code.visualstudio.com/\n",
        "* Jupyter / JupyterLab - устанавливаются как модули Python'a"
      ]
    },
    {
      "cell_type": "code",
      "execution_count": null,
      "metadata": {
        "id": "OQpJ7Q9XAary"
      },
      "outputs": [],
      "source": [
        "python3 -m pip install jupyter"
      ]
    },
    {
      "cell_type": "code",
      "execution_count": null,
      "metadata": {
        "id": "k7-ZwT3sAarz"
      },
      "outputs": [],
      "source": [
        "jupyter-notebook"
      ]
    },
    {
      "cell_type": "markdown",
      "metadata": {
        "id": "T8YZhEyfAar0"
      },
      "source": [
        "# Что такое программа на Python?\n",
        "\n",
        "Для начала запустим Python. Под Windows достаточно два раза кликнуть по **python.exe** в папке с установленным Pyhton'ом, а под Linux достаточно в терминале набрать python3.\n",
        "\n",
        "В появившемся окне наберите\n",
        "\n",
        "```python\n",
        "print(\"Hello World\")\n",
        "```\n",
        "\n",
        "Поздравляю, теперь вы немного Python-программист, так как это была простейшая программа на Python'е.\n",
        "\n",
        "> `print()` - выводит в стандартный поток вывода (терминал/консоль) текстовое представление аргументов через пробельный символ"
      ]
    },
    {
      "cell_type": "markdown",
      "metadata": {
        "id": "d2EBeO8mAar0"
      },
      "source": [
        "# Интерактивный сеанс\n",
        "\n",
        "То, что мы сейчас увидели называемся \"Интерактивным сеансом\". Особенность данного режима заключается в том, что весь код, который мы в нем набираем выполняется сразу же после нажатия Enter.\n",
        "\n",
        "Более того, в данном сеансе работают подсказки, которые выводят результат последнего выражения.\n",
        "\n",
        "Все, что создается в одном сеансе, существует до закрытия этого сеанса!"
      ]
    },
    {
      "cell_type": "code",
      "execution_count": null,
      "metadata": {
        "id": "8D8lcZxuAar1",
        "outputId": "20c14b24-70a4-4595-a061-92f8c58216c8"
      },
      "outputs": [
        {
          "name": "stdout",
          "output_type": "stream",
          "text": [
            "hello world\n"
          ]
        }
      ],
      "source": [
        "print(\"hello world\")"
      ]
    },
    {
      "cell_type": "markdown",
      "metadata": {
        "id": "xf0FTvSyAar1"
      },
      "source": [
        "# Выполнение файлов\n",
        "\n",
        "Интерактивный сеанс не очень хорошо подходит для сложных программ. В этом случае нужно создать файл \"hello.py\" с содержимым\n",
        "\n",
        "```python\n",
        "print(\"hello world\")\n",
        "```\n",
        "\n",
        "Затем в терминале или командной строке выполнить в папке с вышесозданным файлом команду для Windows (либо если все настроенно, то можно просто два раза кликнуть на файл, но в этом случае нужно добавить `input()` в конец файла, чтобы окно закрывалось не моментально )\n",
        "```\n",
        "python.exe hello.py\n",
        "```\n",
        "для Linux\n",
        "```\n",
        "python3 hello.py\n",
        "```\n",
        "\n",
        "Под Linux можно придать скриптам Python'a вид нормальной программы, если добавить в первую строчку файла\n",
        "```\n",
        "#!/usr/bin/env python3\n",
        "```\n",
        "и разрешить запуск файла\n",
        "```\n",
        "chmod +x hello.py\n",
        "```\n",
        "теперь файл можно запускать, как обычную программу."
      ]
    },
    {
      "cell_type": "markdown",
      "metadata": {
        "id": "tlzm15_CAar2"
      },
      "source": [
        "# Как работает Python\n",
        "\n",
        "Если кратко, то Python выполняется на специальной виртуальной машине (PVM), которая выполняет байт-код, в который преобразуется написанный вами код. Подобный подход используется Java. Основное преимущество такого подхода в том, что ваши программы не зависят от платформы, на которой вы их запускаете, главное, чтобы там была виртуальная машина.\n",
        "\n",
        "Это отличается от обычных программ, которые компилируются в язык понятный процессору."
      ]
    },
    {
      "cell_type": "markdown",
      "metadata": {
        "id": "BAIskyU-Aar5"
      },
      "source": [
        "# Компилятор Python на Python\n",
        "\n",
        "В любой вашей программе Python можно подгрузить любую текстовую информацию и выполнить как программу Python\n",
        "\n",
        "> `exec()` - выполняет текстовое выражение, как программу Python"
      ]
    },
    {
      "cell_type": "code",
      "execution_count": null,
      "metadata": {
        "id": "V-UDPShLAar5",
        "outputId": "e3828890-f2de-4f85-ac83-b840bf05cbc3"
      },
      "outputs": [
        {
          "name": "stdout",
          "output_type": "stream",
          "text": [
            "hello world\n"
          ]
        }
      ],
      "source": [
        "exec(\"print('hello world')\")"
      ]
    },
    {
      "cell_type": "markdown",
      "metadata": {
        "id": "F5DRIfi0Aar6"
      },
      "source": [
        "# Встроенная справка\n",
        "\n",
        "Python позволяет получить справку с помощью самого себя\n",
        "\n",
        "> `help()` - выводит справку по объекту"
      ]
    },
    {
      "cell_type": "code",
      "execution_count": null,
      "metadata": {
        "id": "abqWLs56Aar6",
        "outputId": "504bb4ed-4eee-4dc7-ab3a-0fd471b672ea"
      },
      "outputs": [
        {
          "name": "stdout",
          "output_type": "stream",
          "text": [
            "Help on built-in function print in module builtins:\n",
            "\n",
            "print(...)\n",
            "    print(value, ..., sep=' ', end='\\n', file=sys.stdout, flush=False)\n",
            "    \n",
            "    Prints the values to a stream, or to sys.stdout by default.\n",
            "    Optional keyword arguments:\n",
            "    file:  a file-like object (stream); defaults to the current sys.stdout.\n",
            "    sep:   string inserted between values, default a space.\n",
            "    end:   string appended after the last value, default a newline.\n",
            "    flush: whether to forcibly flush the stream.\n",
            "\n"
          ]
        }
      ],
      "source": [
        "help(print)"
      ]
    },
    {
      "cell_type": "markdown",
      "metadata": {
        "id": "MUAtBhCUAar6"
      },
      "source": [
        "В Jupyter можно получить справку, просто добавив ? к интересуемому объекту"
      ]
    },
    {
      "cell_type": "code",
      "execution_count": null,
      "metadata": {
        "id": "T-t_Aq-fAar7",
        "outputId": "ed4a3e08-0e72-495a-bc51-d069b70ee256"
      },
      "outputs": [
        {
          "data": {
            "text/plain": [
              "\u001b[0;31mDocstring:\u001b[0m\n",
              "print(value, ..., sep=' ', end='\\n', file=sys.stdout, flush=False)\n",
              "\n",
              "Prints the values to a stream, or to sys.stdout by default.\n",
              "Optional keyword arguments:\n",
              "file:  a file-like object (stream); defaults to the current sys.stdout.\n",
              "sep:   string inserted between values, default a space.\n",
              "end:   string appended after the last value, default a newline.\n",
              "flush: whether to forcibly flush the stream.\n",
              "\u001b[0;31mType:\u001b[0m      builtin_function_or_method\n"
            ]
          },
          "metadata": {},
          "output_type": "display_data"
        }
      ],
      "source": [
        "print?"
      ]
    },
    {
      "cell_type": "markdown",
      "metadata": {
        "id": "S2B_bqmUAar7"
      },
      "source": [
        "# Начало\n",
        "\n",
        "Чтобы начать делать нашу игру, нам нужно понять из чего будет состоять наша программа. Самым базовым кирпичиком программы будут переменные, они позволят нам оперировать данными игры."
      ]
    },
    {
      "cell_type": "markdown",
      "metadata": {
        "id": "34qgCtajAar7"
      },
      "source": [
        "# Переменные\n",
        "\n",
        "Переменные в Python - это некая ссылка на данные и это отличает их от некоторых других языков программирования, так как они могут указывать данные любого рода. Каждый раз, когда Python видит переменную в выражении, он заменяет её объектом, на который она ссылается.\n",
        "\n",
        "Создать переменную несложно, достаточно ей просто присвоить любое значение"
      ]
    },
    {
      "cell_type": "code",
      "execution_count": null,
      "metadata": {
        "id": "92kOkDXsAar7",
        "outputId": "1dde31f0-8f42-444c-f0bd-479e0b5f2c58"
      },
      "outputs": [
        {
          "name": "stdout",
          "output_type": "stream",
          "text": [
            "foo\n",
            "7\n"
          ]
        }
      ],
      "source": [
        "a = 3\n",
        "a = 7\n",
        "b = a\n",
        "a = \"foo\"\n",
        "\n",
        "print(a)\n",
        "print(b)"
      ]
    },
    {
      "cell_type": "markdown",
      "metadata": {
        "id": "q6OlBO3BAar8"
      },
      "source": [
        "Можно и так"
      ]
    },
    {
      "cell_type": "code",
      "execution_count": null,
      "metadata": {
        "id": "tzNQ6uw7Aar8",
        "outputId": "c8a0007a-377d-4cf4-ef82-aff258503c12"
      },
      "outputs": [
        {
          "name": "stdout",
          "output_type": "stream",
          "text": [
            "10914560 10914560\n"
          ]
        }
      ],
      "source": [
        "a = 3\n",
        "b = a\n",
        "\n",
        "print(id(a), id(b))"
      ]
    },
    {
      "cell_type": "markdown",
      "metadata": {
        "id": "S2DsyZS_Aar8"
      },
      "source": [
        "> `id` - возвращает уникальный идентификатор объекта\n",
        "\n",
        "Выше мы видим, что мы создали две различные переменные, но они ссылаются на один и тот же объект."
      ]
    },
    {
      "cell_type": "code",
      "execution_count": null,
      "metadata": {
        "id": "ohLLnaKJAar9",
        "outputId": "c5497e90-b16a-4c9a-aafb-b7521972f556"
      },
      "outputs": [
        {
          "name": "stdout",
          "output_type": "stream",
          "text": [
            "3\n"
          ]
        }
      ],
      "source": [
        "a = 3\n",
        "b = a\n",
        "a = 5\n",
        "\n",
        "print(b)"
      ]
    },
    {
      "cell_type": "code",
      "execution_count": null,
      "metadata": {
        "id": "6s697GrOAar9"
      },
      "outputs": [],
      "source": [
        "h = None\n",
        "h"
      ]
    },
    {
      "cell_type": "markdown",
      "metadata": {
        "id": "nTaS7vYZAar9"
      },
      "source": [
        "# Основные типы данных\n",
        "\n",
        "\n",
        "Тип данных | Литерал/Создание\n",
        "--- | ---\n",
        "числа | 1, 3.14, 2+3j, int(), float(), complex() и т.д.\n",
        "строки | 'foo', \"spam\", b'\\x00', str()\n",
        "кортежи | (1, 2), tuple(\"foo\")\n",
        "списки | [1, 2], list(range(4))\n",
        "словари | {1: 2}, dict()\n",
        "множества | set()\n",
        "файлы | open(\"hi.txt\"), open(\"data.bin\", \"wb\")\n",
        "прочие | True, False, None, bool()\n",
        "специальные | классы, модули, функции и другие"
      ]
    },
    {
      "cell_type": "markdown",
      "metadata": {
        "id": "U0bXn5QiAar-"
      },
      "source": [
        "> **Литерал** - это выражение, которое создает объект."
      ]
    },
    {
      "cell_type": "code",
      "execution_count": null,
      "metadata": {
        "id": "dHRxIZArAar-"
      },
      "outputs": [],
      "source": [
        "a = 'foo'\n",
        "type(a)"
      ]
    },
    {
      "cell_type": "markdown",
      "metadata": {
        "id": "TjkH7cfLAar-"
      },
      "source": [
        "> `type()` - возвращает тип объекта, если вы забыли, какой тип там хранится."
      ]
    },
    {
      "cell_type": "markdown",
      "metadata": {
        "id": "SdvzmvYCAar-"
      },
      "source": [
        "# Числа"
      ]
    },
    {
      "cell_type": "markdown",
      "metadata": {
        "id": "3xDI3WKYAar_"
      },
      "source": [
        "Числа - это простейший неизменяемый тип данных. Бывают\n",
        "* целыми (1, 2, -1)\n",
        "* с плавающей запятой (1.2, 4E3, 2e-2)\n",
        "* комплексные (1 + 1j)\n",
        "\n",
        "Дополнительные литералы для целых чисел\n",
        "* 0b10 - двоичный литерал\n",
        "* 0o70 - восьмиричный литерал\n",
        "* 0xFA - шестнадцатиричный литерал\n",
        "* True для 1, False для 0 (это специальный булевый тип)\n",
        "\n",
        "\n",
        "Интересной особенностью целых числе в Python является то, что они не ограничены. Python поддерживает, так называемую, \"длинную арифметику\". Так что найти факториал числа 100 в Python не самая сложная задача."
      ]
    },
    {
      "cell_type": "code",
      "execution_count": null,
      "metadata": {
        "id": "sZVYp_kuAar_",
        "outputId": "2fc8e754-149d-4bf2-bf8b-cee170091335"
      },
      "outputs": [
        {
          "data": {
            "text/plain": [
              "93326215443944152681699238856266700490715968264381621468592963895217599993229915608941463976156518286253697920827223758251185210916864000000000000000000000000"
            ]
          },
          "execution_count": 77,
          "metadata": {},
          "output_type": "execute_result"
        }
      ],
      "source": [
        "from functools import reduce\n",
        "\n",
        "reduce(lambda x,y: x * y, range(1, 100 + 1), 1)"
      ]
    },
    {
      "cell_type": "markdown",
      "metadata": {
        "id": "a5XqgbDYAar_"
      },
      "source": [
        "## Операции над числами\n",
        "\n",
        "Числа поддерживает всем знакомые операции\n",
        "* умножение *\n",
        "* истинное деление /\n",
        "* целочисленное деление //\n",
        "* остаток от деления %\n",
        "* возведение в степень **\n",
        "* битовые операции &, |, <<, >>, ^, ~"
      ]
    },
    {
      "cell_type": "code",
      "execution_count": null,
      "metadata": {
        "id": "HKZGkiSeAasG",
        "outputId": "35d33a3b-6070-440a-f11f-93a2078c1827"
      },
      "outputs": [
        {
          "name": "stdout",
          "output_type": "stream",
          "text": [
            "a / b  = 2.5\n",
            "a // b = 2\n",
            "a % b  = 1\n"
          ]
        }
      ],
      "source": [
        "a = 5\n",
        "b = 2\n",
        "\n",
        "print(\"a / b  =\", a / b)\n",
        "print(\"a // b =\", a // b)\n",
        "print(\"a % b  =\", a % b)"
      ]
    },
    {
      "cell_type": "markdown",
      "metadata": {
        "id": "fZb0lYKGAasH"
      },
      "source": [
        "У каждой операции есть приоритет выполнения (https://docs.python.org/3/reference/expressions.html#operator-precedence). В целом они располагаются достаточно знакомым вам образом: умножение/деление в начале, потом сложение/вычитание, потом логические операции.\n",
        "\n",
        "Круглые скобки позволяют группировать операции. Выражение в скобках обладает всегда более высоким приоритетом. Все как учили в школе.\n",
        "\n",
        "Запоминать это не обязательно, каждый раз, когда вы сомневаетесь в том, какая операция будет первой - вы можете определить порядок вычисления с помощью скобок."
      ]
    },
    {
      "cell_type": "code",
      "execution_count": null,
      "metadata": {
        "id": "mBpefxOBAasH",
        "outputId": "f3db723e-28eb-4d0f-e16f-5f080fb0ea07"
      },
      "outputs": [
        {
          "data": {
            "text/plain": [
              "8"
            ]
          },
          "execution_count": 79,
          "metadata": {},
          "output_type": "execute_result"
        }
      ],
      "source": [
        "2 + 3 * 2"
      ]
    },
    {
      "cell_type": "code",
      "execution_count": null,
      "metadata": {
        "id": "4985kR85AasI",
        "outputId": "879268fe-4e75-426a-81a2-781dab6e71c4"
      },
      "outputs": [
        {
          "data": {
            "text/plain": [
              "10"
            ]
          },
          "execution_count": 80,
          "metadata": {},
          "output_type": "execute_result"
        }
      ],
      "source": [
        "(2 + 3) * 2"
      ]
    },
    {
      "cell_type": "markdown",
      "metadata": {
        "id": "5MN2w9Z5AasI"
      },
      "source": [
        "Вы можете объединять числа в любые выражения. Вам нередко будет встречаться такая конструкция\n",
        "\n",
        "```Python\n",
        "a = a + 5\n",
        "```\n",
        "\n",
        "Писать это каждый раз утомительно, поэтому можно воспользоваться _синтаксическим сахаром_ и записать это кратко\n",
        "```Python\n",
        "a += 5\n",
        "```"
      ]
    },
    {
      "cell_type": "code",
      "execution_count": null,
      "metadata": {
        "id": "8ylKxl5sAasI",
        "outputId": "87d75db7-859d-4acf-f3d2-4461656b649b"
      },
      "outputs": [
        {
          "name": "stdout",
          "output_type": "stream",
          "text": [
            "10914560 10914528\n",
            "10914624 10914528\n"
          ]
        }
      ],
      "source": [
        "a = 3\n",
        "b = 2\n",
        "print(id(a), id(b))\n",
        "\n",
        "a += b\n",
        "print(id(a), id(b))"
      ]
    },
    {
      "cell_type": "markdown",
      "metadata": {
        "id": "-rpfv0JXAasJ"
      },
      "source": [
        "Выше мы видим подтверждение того, что числа - это неизменяемые выличины"
      ]
    },
    {
      "cell_type": "markdown",
      "metadata": {
        "id": "FpoAxWw0AasJ"
      },
      "source": [
        "## Сравнение\n",
        "\n",
        "Числа поддерживают операции сравнения, которые возвращают булевый тип: True (истинна) и False (ложь)\n",
        "\n",
        "* \\>, < - больше и меньше\n",
        "* \\>=, <=  - больше или равно, меньше или равно\n",
        "* != - не равно\n",
        "* == - равно\n",
        "\n",
        "Операции сравнения можно сцеплять друг с другом. Выражение `1 < 2 < 3` эквивалентно `1 < 2 and 2 < 3`."
      ]
    },
    {
      "cell_type": "code",
      "execution_count": null,
      "metadata": {
        "id": "bEj-LPGDAasJ",
        "outputId": "69dee517-d08b-4c86-f28f-654777c107c9"
      },
      "outputs": [
        {
          "data": {
            "text/plain": [
              "True"
            ]
          },
          "execution_count": 82,
          "metadata": {},
          "output_type": "execute_result"
        }
      ],
      "source": [
        "a = 4\n",
        "b = 5\n",
        "\n",
        "a < b < 10"
      ]
    },
    {
      "cell_type": "markdown",
      "metadata": {
        "id": "LXJzA0x6AasK"
      },
      "source": [
        "# Дополнительные операции\n",
        "\n",
        "Python поддерживает некоторое количество встроенных операций над числами: преобразование к строке показывающей шестнадцетиричное представление числа `hex()`, двоичное представление - `bin()`, преобразовать в строку `str()`"
      ]
    },
    {
      "cell_type": "code",
      "execution_count": null,
      "metadata": {
        "id": "zJttlqQqAasK",
        "outputId": "a170d2cb-3223-4aab-8cac-f4472ce2d344"
      },
      "outputs": [
        {
          "data": {
            "text/plain": [
              "('0xf', '0b1111', '0o17', '15')"
            ]
          },
          "execution_count": 84,
          "metadata": {},
          "output_type": "execute_result"
        }
      ],
      "source": [
        "hex(15), bin(15), oct(15), str(15)"
      ]
    },
    {
      "cell_type": "markdown",
      "metadata": {
        "id": "5JalqCBxAasK"
      },
      "source": [
        "## Пара слов о repr() и str()\n",
        "\n",
        "> `str()` - позволяет получить текстовое представление любого объекта\n",
        "\n",
        "> `repr()` - позволяет получить текстовое представление для интерактивного сеанса"
      ]
    },
    {
      "cell_type": "code",
      "execution_count": null,
      "metadata": {
        "id": "NKQf6CKnAasK",
        "outputId": "5b2d180e-e101-435a-ca57-ca4b63ee48b4"
      },
      "outputs": [
        {
          "data": {
            "text/plain": [
              "'<built-in function print>'"
            ]
          },
          "execution_count": 85,
          "metadata": {},
          "output_type": "execute_result"
        }
      ],
      "source": [
        "str(print)"
      ]
    },
    {
      "cell_type": "code",
      "execution_count": null,
      "metadata": {
        "id": "rPqEt0nlAasL",
        "outputId": "ef840c1b-c26e-4e61-a9e3-667218f5b6cc"
      },
      "outputs": [
        {
          "name": "stdout",
          "output_type": "stream",
          "text": [
            "str(a) = foo\n",
            "repr(a) = 'foo'\n"
          ]
        }
      ],
      "source": [
        "a = \"foo\"\n",
        "\n",
        "print(\"str(a) =\", str(a))\n",
        "print(\"repr(a) =\", repr(a))"
      ]
    },
    {
      "cell_type": "markdown",
      "metadata": {
        "id": "oAMtSbKHAasL"
      },
      "source": [
        "# Модули\n",
        "\n",
        "Представленных операций не хватает на все случаи жизни, например здесь нет извлечения квадратного корня, тригонометрических операций и другого. Все это можно получить, подключив к вашей программе дополнительный модуль.\n",
        "\n",
        "Мы не будем обсуждать сейчас, что такое модули. Рассматривайте это как черный ящик, в котором храняться полезные для вас функции, переменные, классы и прочее.\n",
        "\n",
        "\n",
        "Добавить модуль к вашей программе не сложно, достаточно просто добавить строку\n",
        "```Python\n",
        "import <название модуля>\n",
        "```"
      ]
    },
    {
      "cell_type": "markdown",
      "metadata": {
        "id": "MqQSQXq5AasM"
      },
      "source": [
        "Python содержит в себе достаточно большое число встроенных модулей: https://docs.python.org/3/library/index.html\n",
        "\n",
        "Познакомимся с первым полезным для нас модулем - **math**. Данный модуль содержит множество математических операций."
      ]
    },
    {
      "cell_type": "code",
      "execution_count": null,
      "metadata": {
        "id": "NbmB66R7AasM"
      },
      "outputs": [],
      "source": [
        "import math"
      ]
    },
    {
      "cell_type": "markdown",
      "metadata": {
        "id": "g5kzaxEOAasM"
      },
      "source": [
        "Модули являются объектами, а значит мы можем получить по ним справку"
      ]
    },
    {
      "cell_type": "code",
      "execution_count": null,
      "metadata": {
        "id": "lykcDQ4yAasN",
        "outputId": "1bf5a790-4ce1-4091-83c8-7c9051a912c1"
      },
      "outputs": [
        {
          "name": "stdout",
          "output_type": "stream",
          "text": [
            "Help on built-in module math:\n",
            "\n",
            "NAME\n",
            "    math\n",
            "\n",
            "DESCRIPTION\n",
            "    This module is always available.  It provides access to the\n",
            "    mathematical functions defined by the C standard.\n",
            "\n",
            "FUNCTIONS\n",
            "    acos(...)\n",
            "        acos(x)\n",
            "        \n",
            "        Return the arc cosine (measured in radians) of x.\n",
            "    \n",
            "    acosh(...)\n",
            "        acosh(x)\n",
            "        \n",
            "        Return the inverse hyperbolic cosine of x.\n",
            "    \n",
            "    asin(...)\n",
            "        asin(x)\n",
            "        \n",
            "        Return the arc sine (measured in radians) of x.\n",
            "    \n",
            "    asinh(...)\n",
            "        asinh(x)\n",
            "        \n",
            "        Return the inverse hyperbolic sine of x.\n",
            "    \n",
            "    atan(...)\n",
            "        atan(x)\n",
            "        \n",
            "        Return the arc tangent (measured in radians) of x.\n",
            "    \n",
            "    atan2(...)\n",
            "        atan2(y, x)\n",
            "        \n",
            "        Return the arc tangent (measured in radians) of y/x.\n",
            "        Unlike atan(y/x), the signs of both x and y are considered.\n",
            "    \n",
            "    atanh(...)\n",
            "        atanh(x)\n",
            "        \n",
            "        Return the inverse hyperbolic tangent of x.\n",
            "    \n",
            "    ceil(...)\n",
            "        ceil(x)\n",
            "        \n",
            "        Return the ceiling of x as an Integral.\n",
            "        This is the smallest integer >= x.\n",
            "    \n",
            "    copysign(...)\n",
            "        copysign(x, y)\n",
            "        \n",
            "        Return a float with the magnitude (absolute value) of x but the sign \n",
            "        of y. On platforms that support signed zeros, copysign(1.0, -0.0) \n",
            "        returns -1.0.\n",
            "    \n",
            "    cos(...)\n",
            "        cos(x)\n",
            "        \n",
            "        Return the cosine of x (measured in radians).\n",
            "    \n",
            "    cosh(...)\n",
            "        cosh(x)\n",
            "        \n",
            "        Return the hyperbolic cosine of x.\n",
            "    \n",
            "    degrees(...)\n",
            "        degrees(x)\n",
            "        \n",
            "        Convert angle x from radians to degrees.\n",
            "    \n",
            "    erf(...)\n",
            "        erf(x)\n",
            "        \n",
            "        Error function at x.\n",
            "    \n",
            "    erfc(...)\n",
            "        erfc(x)\n",
            "        \n",
            "        Complementary error function at x.\n",
            "    \n",
            "    exp(...)\n",
            "        exp(x)\n",
            "        \n",
            "        Return e raised to the power of x.\n",
            "    \n",
            "    expm1(...)\n",
            "        expm1(x)\n",
            "        \n",
            "        Return exp(x)-1.\n",
            "        This function avoids the loss of precision involved in the direct evaluation of exp(x)-1 for small x.\n",
            "    \n",
            "    fabs(...)\n",
            "        fabs(x)\n",
            "        \n",
            "        Return the absolute value of the float x.\n",
            "    \n",
            "    factorial(...)\n",
            "        factorial(x) -> Integral\n",
            "        \n",
            "        Find x!. Raise a ValueError if x is negative or non-integral.\n",
            "    \n",
            "    floor(...)\n",
            "        floor(x)\n",
            "        \n",
            "        Return the floor of x as an Integral.\n",
            "        This is the largest integer <= x.\n",
            "    \n",
            "    fmod(...)\n",
            "        fmod(x, y)\n",
            "        \n",
            "        Return fmod(x, y), according to platform C.  x % y may differ.\n",
            "    \n",
            "    frexp(...)\n",
            "        frexp(x)\n",
            "        \n",
            "        Return the mantissa and exponent of x, as pair (m, e).\n",
            "        m is a float and e is an int, such that x = m * 2.**e.\n",
            "        If x is 0, m and e are both 0.  Else 0.5 <= abs(m) < 1.0.\n",
            "    \n",
            "    fsum(...)\n",
            "        fsum(iterable)\n",
            "        \n",
            "        Return an accurate floating point sum of values in the iterable.\n",
            "        Assumes IEEE-754 floating point arithmetic.\n",
            "    \n",
            "    gamma(...)\n",
            "        gamma(x)\n",
            "        \n",
            "        Gamma function at x.\n",
            "    \n",
            "    gcd(...)\n",
            "        gcd(x, y) -> int\n",
            "        greatest common divisor of x and y\n",
            "    \n",
            "    hypot(...)\n",
            "        hypot(x, y)\n",
            "        \n",
            "        Return the Euclidean distance, sqrt(x*x + y*y).\n",
            "    \n",
            "    isclose(...)\n",
            "        isclose(a, b, *, rel_tol=1e-09, abs_tol=0.0) -> bool\n",
            "        \n",
            "        Determine whether two floating point numbers are close in value.\n",
            "        \n",
            "           rel_tol\n",
            "               maximum difference for being considered \"close\", relative to the\n",
            "               magnitude of the input values\n",
            "            abs_tol\n",
            "               maximum difference for being considered \"close\", regardless of the\n",
            "               magnitude of the input values\n",
            "        \n",
            "        Return True if a is close in value to b, and False otherwise.\n",
            "        \n",
            "        For the values to be considered close, the difference between them\n",
            "        must be smaller than at least one of the tolerances.\n",
            "        \n",
            "        -inf, inf and NaN behave similarly to the IEEE 754 Standard.  That\n",
            "        is, NaN is not close to anything, even itself.  inf and -inf are\n",
            "        only close to themselves.\n",
            "    \n",
            "    isfinite(...)\n",
            "        isfinite(x) -> bool\n",
            "        \n",
            "        Return True if x is neither an infinity nor a NaN, and False otherwise.\n",
            "    \n",
            "    isinf(...)\n",
            "        isinf(x) -> bool\n",
            "        \n",
            "        Return True if x is a positive or negative infinity, and False otherwise.\n",
            "    \n",
            "    isnan(...)\n",
            "        isnan(x) -> bool\n",
            "        \n",
            "        Return True if x is a NaN (not a number), and False otherwise.\n",
            "    \n",
            "    ldexp(...)\n",
            "        ldexp(x, i)\n",
            "        \n",
            "        Return x * (2**i).\n",
            "    \n",
            "    lgamma(...)\n",
            "        lgamma(x)\n",
            "        \n",
            "        Natural logarithm of absolute value of Gamma function at x.\n",
            "    \n",
            "    log(...)\n",
            "        log(x[, base])\n",
            "        \n",
            "        Return the logarithm of x to the given base.\n",
            "        If the base not specified, returns the natural logarithm (base e) of x.\n",
            "    \n",
            "    log10(...)\n",
            "        log10(x)\n",
            "        \n",
            "        Return the base 10 logarithm of x.\n",
            "    \n",
            "    log1p(...)\n",
            "        log1p(x)\n",
            "        \n",
            "        Return the natural logarithm of 1+x (base e).\n",
            "        The result is computed in a way which is accurate for x near zero.\n",
            "    \n",
            "    log2(...)\n",
            "        log2(x)\n",
            "        \n",
            "        Return the base 2 logarithm of x.\n",
            "    \n",
            "    modf(...)\n",
            "        modf(x)\n",
            "        \n",
            "        Return the fractional and integer parts of x.  Both results carry the sign\n",
            "        of x and are floats.\n",
            "    \n",
            "    pow(...)\n",
            "        pow(x, y)\n",
            "        \n",
            "        Return x**y (x to the power of y).\n",
            "    \n",
            "    radians(...)\n",
            "        radians(x)\n",
            "        \n",
            "        Convert angle x from degrees to radians.\n",
            "    \n",
            "    sin(...)\n",
            "        sin(x)\n",
            "        \n",
            "        Return the sine of x (measured in radians).\n",
            "    \n",
            "    sinh(...)\n",
            "        sinh(x)\n",
            "        \n",
            "        Return the hyperbolic sine of x.\n",
            "    \n",
            "    sqrt(...)\n",
            "        sqrt(x)\n",
            "        \n",
            "        Return the square root of x.\n",
            "    \n",
            "    tan(...)\n",
            "        tan(x)\n",
            "        \n",
            "        Return the tangent of x (measured in radians).\n",
            "    \n",
            "    tanh(...)\n",
            "        tanh(x)\n",
            "        \n",
            "        Return the hyperbolic tangent of x.\n",
            "    \n",
            "    trunc(...)\n",
            "        trunc(x:Real) -> Integral\n",
            "        \n",
            "        Truncates x to the nearest Integral toward 0. Uses the __trunc__ magic method.\n",
            "\n",
            "DATA\n",
            "    e = 2.718281828459045\n",
            "    inf = inf\n",
            "    nan = nan\n",
            "    pi = 3.141592653589793\n",
            "    tau = 6.283185307179586\n",
            "\n",
            "FILE\n",
            "    (built-in)\n",
            "\n",
            "\n"
          ]
        }
      ],
      "source": [
        "help(math)"
      ]
    },
    {
      "cell_type": "markdown",
      "metadata": {
        "id": "vPyF6O4rAasN"
      },
      "source": [
        "Теперь нам доступны дополнительные операции над числами"
      ]
    },
    {
      "cell_type": "code",
      "execution_count": null,
      "metadata": {
        "id": "LxIUxg-yAasO",
        "outputId": "5ad538f3-d177-47bb-d880-911cfca2a35f"
      },
      "outputs": [
        {
          "data": {
            "text/plain": [
              "1.4142135623730951"
            ]
          },
          "execution_count": 89,
          "metadata": {},
          "output_type": "execute_result"
        }
      ],
      "source": [
        "math.sqrt(2)"
      ]
    },
    {
      "cell_type": "markdown",
      "metadata": {
        "id": "LsUglWcBAasO"
      },
      "source": [
        "Также вместо импорта модуля целиком, из него можно достать только некоторые функции с помощью `from`\n",
        "\n",
        "```Python\n",
        "from math import sqrt\n",
        "```\n",
        "\n",
        "Теперь, чтобы извлечь квадратный корень не нужно писать `math`.\n",
        "\n",
        "Если нужны все функции из модуля, то можно сделать так\n",
        "```Python\n",
        "from math import *\n",
        "```"
      ]
    },
    {
      "cell_type": "code",
      "execution_count": null,
      "metadata": {
        "id": "wLtf_7_hAasO"
      },
      "outputs": [],
      "source": [
        "from math import sqrt\n",
        "\n",
        "sqrt(2)"
      ]
    },
    {
      "cell_type": "markdown",
      "metadata": {
        "id": "l1DGUGEsAasP"
      },
      "source": [
        "> **ОСТОРОЖНО!**\n",
        "> Использовать `from` нужно внимательно и со знанием дела, в противном случае вы можете получить крайне сложно обнаружимые ошибки связанные с тем, что у вас может произойти перезапись переменных либо модуля, либо вашей программы."
      ]
    },
    {
      "cell_type": "markdown",
      "metadata": {
        "id": "KIM-iKXnAasP"
      },
      "source": [
        "И для самых ленивых есть возможность создания сокращений к именам модулей\n",
        "\n",
        "```Python\n",
        "import numpy as np\n",
        "```"
      ]
    },
    {
      "cell_type": "code",
      "execution_count": null,
      "metadata": {
        "id": "m3UMoFC8AasP"
      },
      "outputs": [],
      "source": [
        "import numpy as np\n",
        "\n",
        "print(np.arange(1, 5))"
      ]
    },
    {
      "cell_type": "markdown",
      "metadata": {
        "id": "qvnaCr7BAasQ"
      },
      "source": [
        "# Добавим интерактива\n",
        "\n",
        "И так, мы умеет теперь делать с числами почти все, что угодно. Для реализации игры нам нужно добавить возможность взаимодействия с пользователем, чтобы он мог делать выбор.\n",
        "\n",
        "Здесь нам на помощь приходит функция `input()`\n",
        "\n",
        "> `input()` - останавливает выполнение программы для того, чтобы пользователь мог ввести данные. Возвращает всегда строку."
      ]
    },
    {
      "cell_type": "code",
      "execution_count": null,
      "metadata": {
        "id": "7_rvutSSAasQ",
        "outputId": "425b926f-5a1a-4487-c253-07f603328334"
      },
      "outputs": [
        {
          "name": "stdout",
          "output_type": "stream",
          "text": [
            "Enter a number: \n"
          ]
        },
        {
          "name": "stdin",
          "output_type": "stream",
          "text": [
            " FOOO\n"
          ]
        },
        {
          "name": "stdout",
          "output_type": "stream",
          "text": [
            "a = FOOO\n"
          ]
        }
      ],
      "source": [
        "print(\"Enter a number: \")\n",
        "a = input()\n",
        "print(\"a =\", a)"
      ]
    },
    {
      "cell_type": "markdown",
      "metadata": {
        "id": "d_6QL2X8AasQ"
      },
      "source": [
        "А можно передать сообщение для вывода в качестве первого аргумента"
      ]
    },
    {
      "cell_type": "code",
      "execution_count": null,
      "metadata": {
        "id": "k7cEuhNXAasR",
        "outputId": "f5d1a334-25e3-4f16-ebd3-d11e1ba8fdbc"
      },
      "outputs": [
        {
          "name": "stdin",
          "output_type": "stream",
          "text": [
            "Enter a number:  15\n"
          ]
        },
        {
          "name": "stdout",
          "output_type": "stream",
          "text": [
            "a = <class 'str'>\n"
          ]
        }
      ],
      "source": [
        "a = input(\"Enter a number: \")\n",
        "print(\"a =\", type(a))"
      ]
    },
    {
      "cell_type": "markdown",
      "metadata": {
        "id": "62QlFyRXAasR"
      },
      "source": [
        "# Преобразование строки в число\n",
        "\n",
        "Это сделать достаточно просто, можно просто воспльзоваться функциями `int()` и `float()`"
      ]
    },
    {
      "cell_type": "code",
      "execution_count": null,
      "metadata": {
        "id": "PWFy96J-AasS",
        "outputId": "7a5080d3-c12e-4e31-f818-1a0aa63c3a88"
      },
      "outputs": [
        {
          "name": "stdout",
          "output_type": "stream",
          "text": [
            "float(a) = 11.5\n"
          ]
        }
      ],
      "source": [
        "a = \"11.5\"\n",
        "print(\"float(a) =\", float(a))\n",
        "# print(\"int(a, base=2) =\", int(a, base=2))\n",
        "# print(\"int(a, base=16) =\", int(a, base=16))"
      ]
    },
    {
      "cell_type": "markdown",
      "metadata": {
        "id": "vLBCeR0PAasS"
      },
      "source": [
        "Но что будет, если мы попробуем преобразоать непреобразуемое?"
      ]
    },
    {
      "cell_type": "code",
      "execution_count": null,
      "metadata": {
        "id": "IdEYIjX4AasT",
        "outputId": "17d6eae1-dc1f-4e12-a734-5192a1a70e46"
      },
      "outputs": [
        {
          "ename": "ValueError",
          "evalue": "invalid literal for int() with base 10: 'a'",
          "output_type": "error",
          "traceback": [
            "\u001b[0;31m---------------------------------------------------------------------------\u001b[0m",
            "\u001b[0;31mValueError\u001b[0m                                Traceback (most recent call last)",
            "\u001b[0;32m<ipython-input-95-d9136db7b558>\u001b[0m in \u001b[0;36m<module>\u001b[0;34m\u001b[0m\n\u001b[0;32m----> 1\u001b[0;31m \u001b[0mint\u001b[0m\u001b[0;34m(\u001b[0m\u001b[0;34m\"a\"\u001b[0m\u001b[0;34m)\u001b[0m\u001b[0;34m\u001b[0m\u001b[0;34m\u001b[0m\u001b[0m\n\u001b[0m",
            "\u001b[0;31mValueError\u001b[0m: invalid literal for int() with base 10: 'a'"
          ]
        }
      ],
      "source": [
        "int(\"a\")"
      ]
    },
    {
      "cell_type": "markdown",
      "metadata": {
        "id": "55KwKFCUAasU"
      },
      "source": [
        "# Домашнее задание\n",
        "\n",
        "Вам необходимо написать программу, которая находит длину третьей стороны произвольного треугольника по двум его сторонам и углу между ними. Можно использовать для этого [теорему косинусов](https://ru.wikipedia.org/wiki/%D0%A2%D0%B5%D0%BE%D1%80%D0%B5%D0%BC%D0%B0_%D0%BA%D0%BE%D1%81%D0%B8%D0%BD%D1%83%D1%81%D0%BE%D0%B2).\n",
        "\n",
        "Таким образом, программа должна спрашивать пользователя параметры треугольника: длину первой стороны, длину второй стороны и угол между ними в градусах."
      ]
    },
    {
      "cell_type": "code",
      "execution_count": null,
      "metadata": {
        "id": "Zx3yDqIAAasU"
      },
      "outputs": [],
      "source": []
    }
  ],
  "metadata": {
    "kernelspec": {
      "display_name": "Python 3",
      "language": "python",
      "name": "python3"
    },
    "language_info": {
      "codemirror_mode": {
        "name": "ipython",
        "version": 3
      },
      "file_extension": ".py",
      "mimetype": "text/x-python",
      "name": "python",
      "nbconvert_exporter": "python",
      "pygments_lexer": "ipython3",
      "version": "3.8.5"
    },
    "colab": {
      "provenance": []
    }
  },
  "nbformat": 4,
  "nbformat_minor": 0
}