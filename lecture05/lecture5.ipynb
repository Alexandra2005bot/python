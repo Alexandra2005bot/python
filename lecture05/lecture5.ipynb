{
  "cells": [
    {
      "cell_type": "markdown",
      "metadata": {
        "id": "4gp0wHqqyISq"
      },
      "source": [
        "# Лекция 5. Файлы. Функции\n",
        "\n",
        "* Файлы\n",
        "* Исключения (начало)\n",
        "* Функции"
      ]
    },
    {
      "cell_type": "code",
      "source": [
        "import pandas as pd\n",
        "df = pd.read_csv(\"labeled.csv\")\n",
        "df.head()\n",
        "#pd.read_csv(\"labeled.csv\")\n"
      ],
      "metadata": {
        "id": "yEbU0pgyyKak",
        "outputId": "730f9060-9984-44e2-f2be-4ed54447b7ce",
        "colab": {
          "base_uri": "https://localhost:8080/",
          "height": 206
        }
      },
      "execution_count": 18,
      "outputs": [
        {
          "output_type": "execute_result",
          "data": {
            "text/plain": [
              "                                             comment  toxic\n",
              "0               Верблюдов-то за что? Дебилы, бл...\\n    1.0\n",
              "1  Хохлы, это отдушина затюканого россиянина, мол...    1.0\n",
              "2                          Собаке - собачья смерть\\n    1.0\n",
              "3  Страницу обнови, дебил. Это тоже не оскорблени...    1.0\n",
              "4  тебя не убедил 6-страничный пдф в том, что Скр...    1.0"
            ],
            "text/html": [
              "\n",
              "  <div id=\"df-0b984466-db05-423f-a3c6-f59299627699\" class=\"colab-df-container\">\n",
              "    <div>\n",
              "<style scoped>\n",
              "    .dataframe tbody tr th:only-of-type {\n",
              "        vertical-align: middle;\n",
              "    }\n",
              "\n",
              "    .dataframe tbody tr th {\n",
              "        vertical-align: top;\n",
              "    }\n",
              "\n",
              "    .dataframe thead th {\n",
              "        text-align: right;\n",
              "    }\n",
              "</style>\n",
              "<table border=\"1\" class=\"dataframe\">\n",
              "  <thead>\n",
              "    <tr style=\"text-align: right;\">\n",
              "      <th></th>\n",
              "      <th>comment</th>\n",
              "      <th>toxic</th>\n",
              "    </tr>\n",
              "  </thead>\n",
              "  <tbody>\n",
              "    <tr>\n",
              "      <th>0</th>\n",
              "      <td>Верблюдов-то за что? Дебилы, бл...\\n</td>\n",
              "      <td>1.0</td>\n",
              "    </tr>\n",
              "    <tr>\n",
              "      <th>1</th>\n",
              "      <td>Хохлы, это отдушина затюканого россиянина, мол...</td>\n",
              "      <td>1.0</td>\n",
              "    </tr>\n",
              "    <tr>\n",
              "      <th>2</th>\n",
              "      <td>Собаке - собачья смерть\\n</td>\n",
              "      <td>1.0</td>\n",
              "    </tr>\n",
              "    <tr>\n",
              "      <th>3</th>\n",
              "      <td>Страницу обнови, дебил. Это тоже не оскорблени...</td>\n",
              "      <td>1.0</td>\n",
              "    </tr>\n",
              "    <tr>\n",
              "      <th>4</th>\n",
              "      <td>тебя не убедил 6-страничный пдф в том, что Скр...</td>\n",
              "      <td>1.0</td>\n",
              "    </tr>\n",
              "  </tbody>\n",
              "</table>\n",
              "</div>\n",
              "    <div class=\"colab-df-buttons\">\n",
              "\n",
              "  <div class=\"colab-df-container\">\n",
              "    <button class=\"colab-df-convert\" onclick=\"convertToInteractive('df-0b984466-db05-423f-a3c6-f59299627699')\"\n",
              "            title=\"Convert this dataframe to an interactive table.\"\n",
              "            style=\"display:none;\">\n",
              "\n",
              "  <svg xmlns=\"http://www.w3.org/2000/svg\" height=\"24px\" viewBox=\"0 -960 960 960\">\n",
              "    <path d=\"M120-120v-720h720v720H120Zm60-500h600v-160H180v160Zm220 220h160v-160H400v160Zm0 220h160v-160H400v160ZM180-400h160v-160H180v160Zm440 0h160v-160H620v160ZM180-180h160v-160H180v160Zm440 0h160v-160H620v160Z\"/>\n",
              "  </svg>\n",
              "    </button>\n",
              "\n",
              "  <style>\n",
              "    .colab-df-container {\n",
              "      display:flex;\n",
              "      gap: 12px;\n",
              "    }\n",
              "\n",
              "    .colab-df-convert {\n",
              "      background-color: #E8F0FE;\n",
              "      border: none;\n",
              "      border-radius: 50%;\n",
              "      cursor: pointer;\n",
              "      display: none;\n",
              "      fill: #1967D2;\n",
              "      height: 32px;\n",
              "      padding: 0 0 0 0;\n",
              "      width: 32px;\n",
              "    }\n",
              "\n",
              "    .colab-df-convert:hover {\n",
              "      background-color: #E2EBFA;\n",
              "      box-shadow: 0px 1px 2px rgba(60, 64, 67, 0.3), 0px 1px 3px 1px rgba(60, 64, 67, 0.15);\n",
              "      fill: #174EA6;\n",
              "    }\n",
              "\n",
              "    .colab-df-buttons div {\n",
              "      margin-bottom: 4px;\n",
              "    }\n",
              "\n",
              "    [theme=dark] .colab-df-convert {\n",
              "      background-color: #3B4455;\n",
              "      fill: #D2E3FC;\n",
              "    }\n",
              "\n",
              "    [theme=dark] .colab-df-convert:hover {\n",
              "      background-color: #434B5C;\n",
              "      box-shadow: 0px 1px 3px 1px rgba(0, 0, 0, 0.15);\n",
              "      filter: drop-shadow(0px 1px 2px rgba(0, 0, 0, 0.3));\n",
              "      fill: #FFFFFF;\n",
              "    }\n",
              "  </style>\n",
              "\n",
              "    <script>\n",
              "      const buttonEl =\n",
              "        document.querySelector('#df-0b984466-db05-423f-a3c6-f59299627699 button.colab-df-convert');\n",
              "      buttonEl.style.display =\n",
              "        google.colab.kernel.accessAllowed ? 'block' : 'none';\n",
              "\n",
              "      async function convertToInteractive(key) {\n",
              "        const element = document.querySelector('#df-0b984466-db05-423f-a3c6-f59299627699');\n",
              "        const dataTable =\n",
              "          await google.colab.kernel.invokeFunction('convertToInteractive',\n",
              "                                                    [key], {});\n",
              "        if (!dataTable) return;\n",
              "\n",
              "        const docLinkHtml = 'Like what you see? Visit the ' +\n",
              "          '<a target=\"_blank\" href=https://colab.research.google.com/notebooks/data_table.ipynb>data table notebook</a>'\n",
              "          + ' to learn more about interactive tables.';\n",
              "        element.innerHTML = '';\n",
              "        dataTable['output_type'] = 'display_data';\n",
              "        await google.colab.output.renderOutput(dataTable, element);\n",
              "        const docLink = document.createElement('div');\n",
              "        docLink.innerHTML = docLinkHtml;\n",
              "        element.appendChild(docLink);\n",
              "      }\n",
              "    </script>\n",
              "  </div>\n",
              "\n",
              "\n",
              "<div id=\"df-f07a898c-9668-4028-a0aa-74af92ed9662\">\n",
              "  <button class=\"colab-df-quickchart\" onclick=\"quickchart('df-f07a898c-9668-4028-a0aa-74af92ed9662')\"\n",
              "            title=\"Suggest charts\"\n",
              "            style=\"display:none;\">\n",
              "\n",
              "<svg xmlns=\"http://www.w3.org/2000/svg\" height=\"24px\"viewBox=\"0 0 24 24\"\n",
              "     width=\"24px\">\n",
              "    <g>\n",
              "        <path d=\"M19 3H5c-1.1 0-2 .9-2 2v14c0 1.1.9 2 2 2h14c1.1 0 2-.9 2-2V5c0-1.1-.9-2-2-2zM9 17H7v-7h2v7zm4 0h-2V7h2v10zm4 0h-2v-4h2v4z\"/>\n",
              "    </g>\n",
              "</svg>\n",
              "  </button>\n",
              "\n",
              "<style>\n",
              "  .colab-df-quickchart {\n",
              "      --bg-color: #E8F0FE;\n",
              "      --fill-color: #1967D2;\n",
              "      --hover-bg-color: #E2EBFA;\n",
              "      --hover-fill-color: #174EA6;\n",
              "      --disabled-fill-color: #AAA;\n",
              "      --disabled-bg-color: #DDD;\n",
              "  }\n",
              "\n",
              "  [theme=dark] .colab-df-quickchart {\n",
              "      --bg-color: #3B4455;\n",
              "      --fill-color: #D2E3FC;\n",
              "      --hover-bg-color: #434B5C;\n",
              "      --hover-fill-color: #FFFFFF;\n",
              "      --disabled-bg-color: #3B4455;\n",
              "      --disabled-fill-color: #666;\n",
              "  }\n",
              "\n",
              "  .colab-df-quickchart {\n",
              "    background-color: var(--bg-color);\n",
              "    border: none;\n",
              "    border-radius: 50%;\n",
              "    cursor: pointer;\n",
              "    display: none;\n",
              "    fill: var(--fill-color);\n",
              "    height: 32px;\n",
              "    padding: 0;\n",
              "    width: 32px;\n",
              "  }\n",
              "\n",
              "  .colab-df-quickchart:hover {\n",
              "    background-color: var(--hover-bg-color);\n",
              "    box-shadow: 0 1px 2px rgba(60, 64, 67, 0.3), 0 1px 3px 1px rgba(60, 64, 67, 0.15);\n",
              "    fill: var(--button-hover-fill-color);\n",
              "  }\n",
              "\n",
              "  .colab-df-quickchart-complete:disabled,\n",
              "  .colab-df-quickchart-complete:disabled:hover {\n",
              "    background-color: var(--disabled-bg-color);\n",
              "    fill: var(--disabled-fill-color);\n",
              "    box-shadow: none;\n",
              "  }\n",
              "\n",
              "  .colab-df-spinner {\n",
              "    border: 2px solid var(--fill-color);\n",
              "    border-color: transparent;\n",
              "    border-bottom-color: var(--fill-color);\n",
              "    animation:\n",
              "      spin 1s steps(1) infinite;\n",
              "  }\n",
              "\n",
              "  @keyframes spin {\n",
              "    0% {\n",
              "      border-color: transparent;\n",
              "      border-bottom-color: var(--fill-color);\n",
              "      border-left-color: var(--fill-color);\n",
              "    }\n",
              "    20% {\n",
              "      border-color: transparent;\n",
              "      border-left-color: var(--fill-color);\n",
              "      border-top-color: var(--fill-color);\n",
              "    }\n",
              "    30% {\n",
              "      border-color: transparent;\n",
              "      border-left-color: var(--fill-color);\n",
              "      border-top-color: var(--fill-color);\n",
              "      border-right-color: var(--fill-color);\n",
              "    }\n",
              "    40% {\n",
              "      border-color: transparent;\n",
              "      border-right-color: var(--fill-color);\n",
              "      border-top-color: var(--fill-color);\n",
              "    }\n",
              "    60% {\n",
              "      border-color: transparent;\n",
              "      border-right-color: var(--fill-color);\n",
              "    }\n",
              "    80% {\n",
              "      border-color: transparent;\n",
              "      border-right-color: var(--fill-color);\n",
              "      border-bottom-color: var(--fill-color);\n",
              "    }\n",
              "    90% {\n",
              "      border-color: transparent;\n",
              "      border-bottom-color: var(--fill-color);\n",
              "    }\n",
              "  }\n",
              "</style>\n",
              "\n",
              "  <script>\n",
              "    async function quickchart(key) {\n",
              "      const quickchartButtonEl =\n",
              "        document.querySelector('#' + key + ' button');\n",
              "      quickchartButtonEl.disabled = true;  // To prevent multiple clicks.\n",
              "      quickchartButtonEl.classList.add('colab-df-spinner');\n",
              "      try {\n",
              "        const charts = await google.colab.kernel.invokeFunction(\n",
              "            'suggestCharts', [key], {});\n",
              "      } catch (error) {\n",
              "        console.error('Error during call to suggestCharts:', error);\n",
              "      }\n",
              "      quickchartButtonEl.classList.remove('colab-df-spinner');\n",
              "      quickchartButtonEl.classList.add('colab-df-quickchart-complete');\n",
              "    }\n",
              "    (() => {\n",
              "      let quickchartButtonEl =\n",
              "        document.querySelector('#df-f07a898c-9668-4028-a0aa-74af92ed9662 button');\n",
              "      quickchartButtonEl.style.display =\n",
              "        google.colab.kernel.accessAllowed ? 'block' : 'none';\n",
              "    })();\n",
              "  </script>\n",
              "</div>\n",
              "    </div>\n",
              "  </div>\n"
            ],
            "application/vnd.google.colaboratory.intrinsic+json": {
              "type": "dataframe",
              "summary": "{\n  \"name\": \"#pd\",\n  \"rows\": 5,\n  \"fields\": [\n    {\n      \"column\": \"comment\",\n      \"properties\": {\n        \"dtype\": \"string\",\n        \"num_unique_values\": 5,\n        \"samples\": [\n          \"\\u0425\\u043e\\u0445\\u043b\\u044b, \\u044d\\u0442\\u043e \\u043e\\u0442\\u0434\\u0443\\u0448\\u0438\\u043d\\u0430 \\u0437\\u0430\\u0442\\u044e\\u043a\\u0430\\u043d\\u043e\\u0433\\u043e \\u0440\\u043e\\u0441\\u0441\\u0438\\u044f\\u043d\\u0438\\u043d\\u0430, \\u043c\\u043e\\u043b, \\u0432\\u043e\\u043d, \\u0430 \\u0443 \\u0445\\u043e\\u0445\\u043b\\u043e\\u0432 \\u0435\\u0449\\u0435 \\u0445\\u0443\\u0436\\u0435. \\u0415\\u0441\\u043b\\u0438 \\u0431\\u044b \\u0445\\u043e\\u0445\\u043b\\u043e\\u0432 \\u043d\\u0435 \\u0431\\u044b\\u043b\\u043e, \\u043a\\u0438\\u0441\\u0435\\u043b\\u044c \\u0438\\u0445 \\u0431\\u044b \\u043f\\u0440\\u0438\\u0434\\u0443\\u043c\\u0430\\u043b.\\n\",\n          \"\\u0442\\u0435\\u0431\\u044f \\u043d\\u0435 \\u0443\\u0431\\u0435\\u0434\\u0438\\u043b 6-\\u0441\\u0442\\u0440\\u0430\\u043d\\u0438\\u0447\\u043d\\u044b\\u0439 \\u043f\\u0434\\u0444 \\u0432 \\u0442\\u043e\\u043c, \\u0447\\u0442\\u043e \\u0421\\u043a\\u0440\\u0438\\u043f\\u0430\\u043b\\u0435\\u0439 \\u043e\\u0442\\u0440\\u0430\\u0432\\u0438\\u043b\\u0430 \\u0420\\u043e\\u0441\\u0441\\u0438\\u044f? \\u0410\\u043d\\u0430\\u043b\\u0438\\u0437\\u0438\\u0440\\u043e\\u0432\\u0430\\u0442\\u044c \\u0438 \\u0434\\u0443\\u043c\\u0430\\u0442\\u044c \\u043f\\u044b\\u0442\\u0430\\u0435\\u0448\\u044c\\u0441\\u044f? \\u0412\\u0430\\u0442\\u043d\\u0438\\u043a \\u0447\\u0442\\u043e \\u043b\\u0438?)\\n\",\n          \"\\u0421\\u043e\\u0431\\u0430\\u043a\\u0435 - \\u0441\\u043e\\u0431\\u0430\\u0447\\u044c\\u044f \\u0441\\u043c\\u0435\\u0440\\u0442\\u044c\\n\"\n        ],\n        \"semantic_type\": \"\",\n        \"description\": \"\"\n      }\n    },\n    {\n      \"column\": \"toxic\",\n      \"properties\": {\n        \"dtype\": \"number\",\n        \"std\": 0.0,\n        \"min\": 1.0,\n        \"max\": 1.0,\n        \"num_unique_values\": 1,\n        \"samples\": [\n          1.0\n        ],\n        \"semantic_type\": \"\",\n        \"description\": \"\"\n      }\n    }\n  ]\n}"
            }
          },
          "metadata": {},
          "execution_count": 18
        }
      ]
    },
    {
      "cell_type": "code",
      "source": [],
      "metadata": {
        "id": "vyShOMDwsNu9"
      },
      "execution_count": null,
      "outputs": []
    },
    {
      "cell_type": "code",
      "source": [
        "df.tail()"
      ],
      "metadata": {
        "id": "PX6wBFc3fEw5",
        "outputId": "a2268697-9594-4487-fab3-a0da03ab410f",
        "colab": {
          "base_uri": "https://localhost:8080/",
          "height": 206
        }
      },
      "execution_count": 19,
      "outputs": [
        {
          "output_type": "execute_result",
          "data": {
            "text/plain": [
              "                                                 comment  toxic\n",
              "14407  Вонючий совковый скот прибежал и ноет. А вот и...    1.0\n",
              "14408  А кого любить? Гоблина тупорылого что-ли? Или ...    1.0\n",
              "14409  Посмотрел Утомленных солнцем 2. И оказалось, ч...    0.0\n",
              "14410  КРЫМОТРЕД НАРУШАЕТ ПРАВИЛА РАЗДЕЛА Т.К В НЕМ Н...    1.0\n",
              "14411  До сих пор пересматриваю его видео. Орамбо кст...    0.0"
            ],
            "text/html": [
              "\n",
              "  <div id=\"df-5c4928f4-d29a-4151-b240-6b3ae808ee66\" class=\"colab-df-container\">\n",
              "    <div>\n",
              "<style scoped>\n",
              "    .dataframe tbody tr th:only-of-type {\n",
              "        vertical-align: middle;\n",
              "    }\n",
              "\n",
              "    .dataframe tbody tr th {\n",
              "        vertical-align: top;\n",
              "    }\n",
              "\n",
              "    .dataframe thead th {\n",
              "        text-align: right;\n",
              "    }\n",
              "</style>\n",
              "<table border=\"1\" class=\"dataframe\">\n",
              "  <thead>\n",
              "    <tr style=\"text-align: right;\">\n",
              "      <th></th>\n",
              "      <th>comment</th>\n",
              "      <th>toxic</th>\n",
              "    </tr>\n",
              "  </thead>\n",
              "  <tbody>\n",
              "    <tr>\n",
              "      <th>14407</th>\n",
              "      <td>Вонючий совковый скот прибежал и ноет. А вот и...</td>\n",
              "      <td>1.0</td>\n",
              "    </tr>\n",
              "    <tr>\n",
              "      <th>14408</th>\n",
              "      <td>А кого любить? Гоблина тупорылого что-ли? Или ...</td>\n",
              "      <td>1.0</td>\n",
              "    </tr>\n",
              "    <tr>\n",
              "      <th>14409</th>\n",
              "      <td>Посмотрел Утомленных солнцем 2. И оказалось, ч...</td>\n",
              "      <td>0.0</td>\n",
              "    </tr>\n",
              "    <tr>\n",
              "      <th>14410</th>\n",
              "      <td>КРЫМОТРЕД НАРУШАЕТ ПРАВИЛА РАЗДЕЛА Т.К В НЕМ Н...</td>\n",
              "      <td>1.0</td>\n",
              "    </tr>\n",
              "    <tr>\n",
              "      <th>14411</th>\n",
              "      <td>До сих пор пересматриваю его видео. Орамбо кст...</td>\n",
              "      <td>0.0</td>\n",
              "    </tr>\n",
              "  </tbody>\n",
              "</table>\n",
              "</div>\n",
              "    <div class=\"colab-df-buttons\">\n",
              "\n",
              "  <div class=\"colab-df-container\">\n",
              "    <button class=\"colab-df-convert\" onclick=\"convertToInteractive('df-5c4928f4-d29a-4151-b240-6b3ae808ee66')\"\n",
              "            title=\"Convert this dataframe to an interactive table.\"\n",
              "            style=\"display:none;\">\n",
              "\n",
              "  <svg xmlns=\"http://www.w3.org/2000/svg\" height=\"24px\" viewBox=\"0 -960 960 960\">\n",
              "    <path d=\"M120-120v-720h720v720H120Zm60-500h600v-160H180v160Zm220 220h160v-160H400v160Zm0 220h160v-160H400v160ZM180-400h160v-160H180v160Zm440 0h160v-160H620v160ZM180-180h160v-160H180v160Zm440 0h160v-160H620v160Z\"/>\n",
              "  </svg>\n",
              "    </button>\n",
              "\n",
              "  <style>\n",
              "    .colab-df-container {\n",
              "      display:flex;\n",
              "      gap: 12px;\n",
              "    }\n",
              "\n",
              "    .colab-df-convert {\n",
              "      background-color: #E8F0FE;\n",
              "      border: none;\n",
              "      border-radius: 50%;\n",
              "      cursor: pointer;\n",
              "      display: none;\n",
              "      fill: #1967D2;\n",
              "      height: 32px;\n",
              "      padding: 0 0 0 0;\n",
              "      width: 32px;\n",
              "    }\n",
              "\n",
              "    .colab-df-convert:hover {\n",
              "      background-color: #E2EBFA;\n",
              "      box-shadow: 0px 1px 2px rgba(60, 64, 67, 0.3), 0px 1px 3px 1px rgba(60, 64, 67, 0.15);\n",
              "      fill: #174EA6;\n",
              "    }\n",
              "\n",
              "    .colab-df-buttons div {\n",
              "      margin-bottom: 4px;\n",
              "    }\n",
              "\n",
              "    [theme=dark] .colab-df-convert {\n",
              "      background-color: #3B4455;\n",
              "      fill: #D2E3FC;\n",
              "    }\n",
              "\n",
              "    [theme=dark] .colab-df-convert:hover {\n",
              "      background-color: #434B5C;\n",
              "      box-shadow: 0px 1px 3px 1px rgba(0, 0, 0, 0.15);\n",
              "      filter: drop-shadow(0px 1px 2px rgba(0, 0, 0, 0.3));\n",
              "      fill: #FFFFFF;\n",
              "    }\n",
              "  </style>\n",
              "\n",
              "    <script>\n",
              "      const buttonEl =\n",
              "        document.querySelector('#df-5c4928f4-d29a-4151-b240-6b3ae808ee66 button.colab-df-convert');\n",
              "      buttonEl.style.display =\n",
              "        google.colab.kernel.accessAllowed ? 'block' : 'none';\n",
              "\n",
              "      async function convertToInteractive(key) {\n",
              "        const element = document.querySelector('#df-5c4928f4-d29a-4151-b240-6b3ae808ee66');\n",
              "        const dataTable =\n",
              "          await google.colab.kernel.invokeFunction('convertToInteractive',\n",
              "                                                    [key], {});\n",
              "        if (!dataTable) return;\n",
              "\n",
              "        const docLinkHtml = 'Like what you see? Visit the ' +\n",
              "          '<a target=\"_blank\" href=https://colab.research.google.com/notebooks/data_table.ipynb>data table notebook</a>'\n",
              "          + ' to learn more about interactive tables.';\n",
              "        element.innerHTML = '';\n",
              "        dataTable['output_type'] = 'display_data';\n",
              "        await google.colab.output.renderOutput(dataTable, element);\n",
              "        const docLink = document.createElement('div');\n",
              "        docLink.innerHTML = docLinkHtml;\n",
              "        element.appendChild(docLink);\n",
              "      }\n",
              "    </script>\n",
              "  </div>\n",
              "\n",
              "\n",
              "<div id=\"df-1b70c363-9e6c-4857-b2e8-609c68a873e5\">\n",
              "  <button class=\"colab-df-quickchart\" onclick=\"quickchart('df-1b70c363-9e6c-4857-b2e8-609c68a873e5')\"\n",
              "            title=\"Suggest charts\"\n",
              "            style=\"display:none;\">\n",
              "\n",
              "<svg xmlns=\"http://www.w3.org/2000/svg\" height=\"24px\"viewBox=\"0 0 24 24\"\n",
              "     width=\"24px\">\n",
              "    <g>\n",
              "        <path d=\"M19 3H5c-1.1 0-2 .9-2 2v14c0 1.1.9 2 2 2h14c1.1 0 2-.9 2-2V5c0-1.1-.9-2-2-2zM9 17H7v-7h2v7zm4 0h-2V7h2v10zm4 0h-2v-4h2v4z\"/>\n",
              "    </g>\n",
              "</svg>\n",
              "  </button>\n",
              "\n",
              "<style>\n",
              "  .colab-df-quickchart {\n",
              "      --bg-color: #E8F0FE;\n",
              "      --fill-color: #1967D2;\n",
              "      --hover-bg-color: #E2EBFA;\n",
              "      --hover-fill-color: #174EA6;\n",
              "      --disabled-fill-color: #AAA;\n",
              "      --disabled-bg-color: #DDD;\n",
              "  }\n",
              "\n",
              "  [theme=dark] .colab-df-quickchart {\n",
              "      --bg-color: #3B4455;\n",
              "      --fill-color: #D2E3FC;\n",
              "      --hover-bg-color: #434B5C;\n",
              "      --hover-fill-color: #FFFFFF;\n",
              "      --disabled-bg-color: #3B4455;\n",
              "      --disabled-fill-color: #666;\n",
              "  }\n",
              "\n",
              "  .colab-df-quickchart {\n",
              "    background-color: var(--bg-color);\n",
              "    border: none;\n",
              "    border-radius: 50%;\n",
              "    cursor: pointer;\n",
              "    display: none;\n",
              "    fill: var(--fill-color);\n",
              "    height: 32px;\n",
              "    padding: 0;\n",
              "    width: 32px;\n",
              "  }\n",
              "\n",
              "  .colab-df-quickchart:hover {\n",
              "    background-color: var(--hover-bg-color);\n",
              "    box-shadow: 0 1px 2px rgba(60, 64, 67, 0.3), 0 1px 3px 1px rgba(60, 64, 67, 0.15);\n",
              "    fill: var(--button-hover-fill-color);\n",
              "  }\n",
              "\n",
              "  .colab-df-quickchart-complete:disabled,\n",
              "  .colab-df-quickchart-complete:disabled:hover {\n",
              "    background-color: var(--disabled-bg-color);\n",
              "    fill: var(--disabled-fill-color);\n",
              "    box-shadow: none;\n",
              "  }\n",
              "\n",
              "  .colab-df-spinner {\n",
              "    border: 2px solid var(--fill-color);\n",
              "    border-color: transparent;\n",
              "    border-bottom-color: var(--fill-color);\n",
              "    animation:\n",
              "      spin 1s steps(1) infinite;\n",
              "  }\n",
              "\n",
              "  @keyframes spin {\n",
              "    0% {\n",
              "      border-color: transparent;\n",
              "      border-bottom-color: var(--fill-color);\n",
              "      border-left-color: var(--fill-color);\n",
              "    }\n",
              "    20% {\n",
              "      border-color: transparent;\n",
              "      border-left-color: var(--fill-color);\n",
              "      border-top-color: var(--fill-color);\n",
              "    }\n",
              "    30% {\n",
              "      border-color: transparent;\n",
              "      border-left-color: var(--fill-color);\n",
              "      border-top-color: var(--fill-color);\n",
              "      border-right-color: var(--fill-color);\n",
              "    }\n",
              "    40% {\n",
              "      border-color: transparent;\n",
              "      border-right-color: var(--fill-color);\n",
              "      border-top-color: var(--fill-color);\n",
              "    }\n",
              "    60% {\n",
              "      border-color: transparent;\n",
              "      border-right-color: var(--fill-color);\n",
              "    }\n",
              "    80% {\n",
              "      border-color: transparent;\n",
              "      border-right-color: var(--fill-color);\n",
              "      border-bottom-color: var(--fill-color);\n",
              "    }\n",
              "    90% {\n",
              "      border-color: transparent;\n",
              "      border-bottom-color: var(--fill-color);\n",
              "    }\n",
              "  }\n",
              "</style>\n",
              "\n",
              "  <script>\n",
              "    async function quickchart(key) {\n",
              "      const quickchartButtonEl =\n",
              "        document.querySelector('#' + key + ' button');\n",
              "      quickchartButtonEl.disabled = true;  // To prevent multiple clicks.\n",
              "      quickchartButtonEl.classList.add('colab-df-spinner');\n",
              "      try {\n",
              "        const charts = await google.colab.kernel.invokeFunction(\n",
              "            'suggestCharts', [key], {});\n",
              "      } catch (error) {\n",
              "        console.error('Error during call to suggestCharts:', error);\n",
              "      }\n",
              "      quickchartButtonEl.classList.remove('colab-df-spinner');\n",
              "      quickchartButtonEl.classList.add('colab-df-quickchart-complete');\n",
              "    }\n",
              "    (() => {\n",
              "      let quickchartButtonEl =\n",
              "        document.querySelector('#df-1b70c363-9e6c-4857-b2e8-609c68a873e5 button');\n",
              "      quickchartButtonEl.style.display =\n",
              "        google.colab.kernel.accessAllowed ? 'block' : 'none';\n",
              "    })();\n",
              "  </script>\n",
              "</div>\n",
              "    </div>\n",
              "  </div>\n"
            ],
            "application/vnd.google.colaboratory.intrinsic+json": {
              "type": "dataframe",
              "summary": "{\n  \"name\": \"df\",\n  \"rows\": 5,\n  \"fields\": [\n    {\n      \"column\": \"comment\",\n      \"properties\": {\n        \"dtype\": \"string\",\n        \"num_unique_values\": 5,\n        \"samples\": [\n          \"\\u0410 \\u043a\\u043e\\u0433\\u043e \\u043b\\u044e\\u0431\\u0438\\u0442\\u044c? \\u0413\\u043e\\u0431\\u043b\\u0438\\u043d\\u0430 \\u0442\\u0443\\u043f\\u043e\\u0440\\u044b\\u043b\\u043e\\u0433\\u043e \\u0447\\u0442\\u043e-\\u043b\\u0438? \\u0418\\u043b\\u0438 \\u043a\\u0430\\u043a\\u0443\\u044e-\\u043d\\u0438\\u0431\\u0443\\u0434\\u044c \\u043f\\u0440\\u043e\\u0434\\u0430\\u0436\\u043d\\u0443\\u044e \\u0441\\u0443\\u043a\\u0443 \\u0438\\u0437 \\u0434\\u0435\\u043c\\u0448\\u0438\\u0437\\u044b? \\u041d\\u0435\\u0442 \\u0443\\u0436, \\u0441\\u043f\\u0430\\u0441\\u0438\\u0431\\u043e \\u043d\\u0435 \\u043d\\u0430\\u0434\\u043e.\\n\",\n          \"\\u0414\\u043e \\u0441\\u0438\\u0445 \\u043f\\u043e\\u0440 \\u043f\\u0435\\u0440\\u0435\\u0441\\u043c\\u0430\\u0442\\u0440\\u0438\\u0432\\u0430\\u044e \\u0435\\u0433\\u043e \\u0432\\u0438\\u0434\\u0435\\u043e. \\u041e\\u0440\\u0430\\u043c\\u0431\\u043e \\u043a\\u0441\\u0442\\u0430\\u0442\\u0438 \\u043d\\u0430 \\u0441\\u0432\\u043e\\u0435\\u043c \\u043a\\u0430\\u043d\\u0430\\u043b\\u0435 \\u043f\\u0438\\u043b\\u0438\\u0442 \\u043f\\u043e\\u0445\\u043e\\u0436\\u0438\\u0439 \\u043a\\u043e\\u043d\\u0442\\u0435\\u043d\\u0442, \\u043d\\u043e \\u043a\\u0430\\u0447\\u0435\\u0441\\u0442\\u0432\\u043e\\u043c \\u043f\\u043e\\u0445\\u0443\\u0436\\u0435, \\u0442\\u0430\\u043c \\u0436\\u0435 \\u0438 \\u0428\\u0443\\u0440\\u0430\\u043d \\u043d\\u0435 \\u0440\\u0435\\u0434\\u043a\\u043e \\u0441\\u0432\\u0435\\u0442\\u0438\\u0442\\u0441\\u044f, \\u0445\\u0440\\u0430\\u043d\\u044e \\u0445\\u0440\\u0443\\u043f\\u043a\\u0443\\u044e \\u043d\\u0430\\u0434\\u0435\\u0436\\u0434\\u0443 \\u0447\\u0442\\u043e \\u043a\\u043e\\u0433\\u0434\\u0430-\\u0442\\u043e \\u043e\\u043d \\u0432\\u0435\\u0440\\u043d\\u0435\\u0442\\u0441\\u044f, \\u0442\\u0430\\u043a\\u0430\\u044f \\u0433\\u043e\\u0434\\u043d\\u043e\\u0442\\u0430 \\u0432\\u0435\\u0434\\u044c.\\n\",\n          \"\\u041f\\u043e\\u0441\\u043c\\u043e\\u0442\\u0440\\u0435\\u043b \\u0423\\u0442\\u043e\\u043c\\u043b\\u0435\\u043d\\u043d\\u044b\\u0445 \\u0441\\u043e\\u043b\\u043d\\u0446\\u0435\\u043c 2. \\u0418 \\u043e\\u043a\\u0430\\u0437\\u0430\\u043b\\u043e\\u0441\\u044c, \\u0447\\u0442\\u043e \\u044d\\u0442\\u043e \\u0445\\u043e\\u0440\\u043e\\u0448\\u0438\\u0439 \\u0444\\u0438\\u043b\\u044c\\u043c, \\u0442\\u0430\\u043a\\u0430\\u044f \\u0432\\u044b\\u0441\\u043e\\u043a\\u043e\\u0431\\u044e\\u0434\\u0436\\u0435\\u0442\\u043d\\u0430\\u044f \\u0430\\u0440\\u0442\\u0445\\u0430\\u0443\\u0441\\u044f\\u0442\\u0438\\u043d\\u0430, \\u043a \\u043a\\u043e\\u0442\\u043e\\u0440\\u043e\\u0439 \\u043c\\u043e\\u0433\\u0443\\u0442 \\u0431\\u044b\\u0442\\u044c \\u043f\\u0440\\u0435\\u0442\\u0435\\u043d\\u0437\\u0438\\u0438 \\u0442\\u043e\\u043b\\u044c\\u043a\\u043e \\u043f\\u043e\\u0442\\u043e\\u043c\\u0443, \\u0447\\u0442\\u043e \\u0441\\u043f\\u0438\\u0437\\u0434\\u0438\\u043b\\u0438-\\u0440\\u0430\\u0441\\u043f\\u0438\\u043b\\u0438\\u043b\\u0438 \\u0438 \\u0432\\u043e\\u043e\\u0431\\u0449\\u0435 \\u0422\\u0410\\u041a \\u041d\\u0415 \\u0411\\u042b\\u0412\\u0410\\u0415\\u0422. \\u041d\\u0443 \\u043d\\u0430\\u0445\\u0443\\u0439 \\u044d\\u0442\\u0438\\u0445 \\u043a\\u0440\\u0438\\u0442\\u0438\\u043a\\u043e\\u0432. \\u041e\\u0431\\u0437\\u043e\\u0440\\u044b \\u0434\\u043b\\u0438\\u043d\\u043d\\u0435\\u0435 \\u0444\\u0438\\u043b\\u044c\\u043c\\u043e\\u0432, \\u043f\\u0435\\u0442\\u0440\\u043e\\u0441\\u044f\\u043d\\u0441\\u0442\\u0432\\u043e \\u0445\\u0443\\u0436\\u0435 \\u0440\\u0430\\u0448\\u043a\\u043e\\u043a\\u043e\\u043c\\u0435\\u0434\\u0438\\u0439, \\u0435\\u0431\\u0430\\u043d\\u0443\\u0442\\u0430\\u044f \\u043d\\u0435\\u043d\\u0430\\u0432\\u0438\\u0441\\u0442\\u044c \\u0438 \\u0434\\u043e\\u0435\\u0431\\u043a\\u0438 \\u043f\\u043e \\u043c\\u0435\\u043b\\u043e\\u0447\\u0430\\u043c.\\n\"\n        ],\n        \"semantic_type\": \"\",\n        \"description\": \"\"\n      }\n    },\n    {\n      \"column\": \"toxic\",\n      \"properties\": {\n        \"dtype\": \"number\",\n        \"std\": 0.5477225575051662,\n        \"min\": 0.0,\n        \"max\": 1.0,\n        \"num_unique_values\": 2,\n        \"samples\": [\n          0.0,\n          1.0\n        ],\n        \"semantic_type\": \"\",\n        \"description\": \"\"\n      }\n    }\n  ]\n}"
            }
          },
          "metadata": {},
          "execution_count": 19
        }
      ]
    },
    {
      "cell_type": "code",
      "source": [],
      "metadata": {
        "id": "CVKvq9D-lo_c"
      },
      "execution_count": null,
      "outputs": []
    },
    {
      "cell_type": "code",
      "source": [
        "pip install pandas"
      ],
      "metadata": {
        "id": "tOVUt2vS7JGQ",
        "outputId": "c790a21e-1409-4438-f565-224950c08a9c",
        "colab": {
          "base_uri": "https://localhost:8080/"
        }
      },
      "execution_count": 15,
      "outputs": [
        {
          "output_type": "stream",
          "name": "stdout",
          "text": [
            "Requirement already satisfied: pandas in /usr/local/lib/python3.11/dist-packages (2.2.2)\n",
            "Requirement already satisfied: numpy>=1.23.2 in /usr/local/lib/python3.11/dist-packages (from pandas) (2.0.2)\n",
            "Requirement already satisfied: python-dateutil>=2.8.2 in /usr/local/lib/python3.11/dist-packages (from pandas) (2.8.2)\n",
            "Requirement already satisfied: pytz>=2020.1 in /usr/local/lib/python3.11/dist-packages (from pandas) (2025.1)\n",
            "Requirement already satisfied: tzdata>=2022.7 in /usr/local/lib/python3.11/dist-packages (from pandas) (2025.1)\n",
            "Requirement already satisfied: six>=1.5 in /usr/local/lib/python3.11/dist-packages (from python-dateutil>=2.8.2->pandas) (1.17.0)\n"
          ]
        }
      ]
    },
    {
      "cell_type": "markdown",
      "metadata": {
        "id": "MGMYKxZFyISt"
      },
      "source": [
        "# Для пользователей Jupyter\n",
        "\n",
        "Для тех, кто использует Jupyter и при этом очень хочет, чтобы функция `exit` работала, нужно добавить и выполнить в самое начало вашей тетрадки следующий код"
      ]
    },
    {
      "cell_type": "code",
      "execution_count": null,
      "metadata": {
        "id": "M4G1VuY_yISu"
      },
      "outputs": [],
      "source": [
        "class StopExecution(Exception):\n",
        "    def __init__(self, code):\n",
        "        self.code = code\n",
        "\n",
        "    def _render_traceback_(self):\n",
        "        print(\"Exit %s\" % self.code)\n",
        "\n",
        "def exit(code):\n",
        "    raise StopExecution(code)"
      ]
    },
    {
      "cell_type": "markdown",
      "metadata": {
        "id": "G4rnTxiZyISv"
      },
      "source": [
        "# Еще несколько полезных функций"
      ]
    },
    {
      "cell_type": "markdown",
      "metadata": {
        "id": "XKcKDGvfyISv"
      },
      "source": [
        "> `all(iterable)` - возвращает True, если все значения true-подобны. Если элементов в объекте нет, то возращает True"
      ]
    },
    {
      "cell_type": "code",
      "execution_count": null,
      "metadata": {
        "id": "i__4f8fOyISw",
        "outputId": "a92359e8-d76e-4f20-a295-5e522fd6b354"
      },
      "outputs": [
        {
          "name": "stdout",
          "output_type": "stream",
          "text": [
            "False\n",
            "True\n",
            "True\n"
          ]
        }
      ],
      "source": [
        "a = [1, 2, 0]\n",
        "print(all(a))\n",
        "\n",
        "a = [1, 2, 3]\n",
        "print(all(a))\n",
        "\n",
        "# но если список пустой\n",
        "a = []\n",
        "print(all(a))"
      ]
    },
    {
      "cell_type": "markdown",
      "metadata": {
        "id": "DhO3efpuyISw"
      },
      "source": [
        "> `any(iterable)` - возвращает True, если хотя бы одно значение true-подобно. Если элментов нет, то возвращает False"
      ]
    },
    {
      "cell_type": "code",
      "execution_count": null,
      "metadata": {
        "id": "AGmEz4BIyISx",
        "outputId": "2edb90ed-5b88-4417-ee00-fb4f4152a853"
      },
      "outputs": [
        {
          "name": "stdout",
          "output_type": "stream",
          "text": [
            "False\n",
            "True\n",
            "False\n"
          ]
        }
      ],
      "source": [
        "a = [0, 0, 0]\n",
        "print(any(a))\n",
        "\n",
        "a = [0, 2, 0]\n",
        "print(any(a))\n",
        "\n",
        "# но если список пустой\n",
        "a = []\n",
        "print(any(a))"
      ]
    },
    {
      "cell_type": "markdown",
      "metadata": {
        "id": "syPCZZC1yISx"
      },
      "source": [
        "> `min(iterable), min(arg1, arg2, ...), max(iterable), max(arg1, arg2, ...)` - получить минимальный или максимальный элемент"
      ]
    },
    {
      "cell_type": "code",
      "execution_count": null,
      "metadata": {
        "id": "an7vjDMbyISx",
        "outputId": "09032ed0-225a-4614-e9d3-53f27a932f64"
      },
      "outputs": [
        {
          "name": "stdout",
          "output_type": "stream",
          "text": [
            "-1\n",
            "-1\n"
          ]
        }
      ],
      "source": [
        "print(min([3, -1, 5]))\n",
        "print(min(3, -1, 6))"
      ]
    },
    {
      "cell_type": "markdown",
      "metadata": {
        "id": "-8u8K5i_yISy"
      },
      "source": [
        "> `sum(iterable)` - найти сумму всех элементов"
      ]
    },
    {
      "cell_type": "code",
      "execution_count": null,
      "metadata": {
        "id": "eI-7nFnByISy",
        "outputId": "0d19e0c5-0776-4c48-f096-8a176b4faa72"
      },
      "outputs": [
        {
          "name": "stdout",
          "output_type": "stream",
          "text": [
            "45\n",
            "55\n"
          ]
        }
      ],
      "source": [
        "a = [i for i in range(10)]\n",
        "\n",
        "print(sum(a))\n",
        "print(sum(a, 10))"
      ]
    },
    {
      "cell_type": "markdown",
      "metadata": {
        "id": "NXQSJeRAyISy"
      },
      "source": [
        "# Списки и словари(продолжение)\n",
        "\n",
        "Если перед нами стоит задача изменения списка, то мы вынуждены написаны следующий код"
      ]
    },
    {
      "cell_type": "code",
      "execution_count": null,
      "metadata": {
        "id": "XwpgmjoayISz",
        "outputId": "7840736d-bc6a-4afd-b71f-6a2e8b8b7c79"
      },
      "outputs": [
        {
          "name": "stdout",
          "output_type": "stream",
          "text": [
            "[10, 11, 12, 13, 14, 15]\n"
          ]
        }
      ],
      "source": [
        "a = [0, 1, 2, 3, 4, 5]\n",
        "for i in range(len(a)):\n",
        "    a[i] += 10\n",
        "print(a)"
      ]
    },
    {
      "cell_type": "markdown",
      "metadata": {
        "id": "TtPaI2p2yISz"
      },
      "source": [
        "Данный подход не самый оптимальный. Python предоставляет нам более удобный способ"
      ]
    },
    {
      "cell_type": "code",
      "execution_count": null,
      "metadata": {
        "id": "BMT9oANIyISz",
        "outputId": "105a1fbe-86ef-4a2e-f840-08985e17ebd7"
      },
      "outputs": [
        {
          "name": "stdout",
          "output_type": "stream",
          "text": [
            "[10, 11, 12, 13, 14, 15]\n"
          ]
        }
      ],
      "source": [
        "a = [0, 1, 2, 3, 4, 5]\n",
        "a = [el + 10 for el in a]\n",
        "print(a)"
      ]
    },
    {
      "cell_type": "markdown",
      "metadata": {
        "id": "2tiSBVivyISz"
      },
      "source": [
        "Также можно добавить условие, которое позволит \"фильтровать\" элементы списка"
      ]
    },
    {
      "cell_type": "code",
      "execution_count": null,
      "metadata": {
        "id": "Y81f7gnGyIS0",
        "outputId": "38eda68a-3d5a-4833-fdfc-c6b6d36d2f28"
      },
      "outputs": [
        {
          "name": "stdout",
          "output_type": "stream",
          "text": [
            "[10, 12, 14]\n"
          ]
        }
      ],
      "source": [
        "a = [0, 1, 2, 3, 4, 5]\n",
        "a = [el + 10 for el in a if el % 2 == 0]\n",
        "print(a)"
      ]
    },
    {
      "cell_type": "markdown",
      "metadata": {
        "id": "JPSSs9o1yIS0"
      },
      "source": [
        "Никто не запрещает нам использовать вложенные циклы"
      ]
    },
    {
      "cell_type": "code",
      "execution_count": null,
      "metadata": {
        "id": "2r768Q6VyIS0",
        "outputId": "3e3889c9-298c-44b5-96d8-d5ecda4abd69"
      },
      "outputs": [
        {
          "data": {
            "text/plain": [
              "['ad',\n",
              " 'ae',\n",
              " 'af',\n",
              " 'ag',\n",
              " 'ah',\n",
              " 'bd',\n",
              " 'be',\n",
              " 'bf',\n",
              " 'bg',\n",
              " 'bh',\n",
              " 'cd',\n",
              " 'ce',\n",
              " 'cf',\n",
              " 'cg',\n",
              " 'ch']"
            ]
          },
          "execution_count": 5,
          "metadata": {},
          "output_type": "execute_result"
        }
      ],
      "source": [
        "a = [x+y for x in \"abc\" for y in \"defgh\"]\n",
        "a"
      ]
    },
    {
      "cell_type": "markdown",
      "metadata": {
        "id": "9LVwWpmKyIS0"
      },
      "source": [
        "Точно такая же конструкция может быть использована для создания словарей и множеств"
      ]
    },
    {
      "cell_type": "code",
      "execution_count": null,
      "metadata": {
        "id": "nYWN0SKFyIS1",
        "outputId": "7924ab49-a65d-4e8f-a97a-1d72f21a9541"
      },
      "outputs": [
        {
          "name": "stdout",
          "output_type": "stream",
          "text": [
            "{0, 1, 2, 3, 4, 5, 6, 7, 8, 9}\n",
            "{0: 0, 1: 1, 2: 4, 3: 9, 4: 16, 5: 25, 6: 36, 7: 49, 8: 64, 9: 81}\n"
          ]
        }
      ],
      "source": [
        "s = {n for n in range(10)}\n",
        "print(s)\n",
        "\n",
        "d = {n: n**2 for n in range(10)}\n",
        "print(d)"
      ]
    },
    {
      "cell_type": "markdown",
      "metadata": {
        "id": "2XvUzMlsyIS1"
      },
      "source": [
        "# Файлы\n",
        "\n",
        "В __Python__'e работа с файлами невероятно простая. Достаточно использовать функцию __open()__\n",
        "\n",
        "```Python\n",
        "open(<путь>[, <режим>])\n",
        "```\n",
        "\n",
        "Путь может быть относительным или абсолютным.\n",
        "\n",
        "Доступны следующие режимы (их можно комбинировать вместе)\n",
        "- `\"r\"` - открыть для чтения\n",
        "- `\"w\"` - открыть для записи, создает файл если его нет, если есть - очищает его содержимое\n",
        "- `\"rw\"` - открыть для чтения и записи\n",
        "- `\"a\"` - открыть для добавления данный в конец файла\n",
        "- `\"b\"` - добавить, чтобы открыть файл в бинарном режиме\n",
        "- `\"t\"` - добавить. чтобы открыть файл в текстовом режиме, можно не писать, так как присутствует по умолчанию, если не указано \"b\"\n",
        "- `\"+\"` - открыть файл для обновления (чтение и запись)\n",
        "\n",
        "Если режим не указан, то он считается \"rt\""
      ]
    },
    {
      "cell_type": "code",
      "execution_count": null,
      "metadata": {
        "id": "KsYMDSmAyIS1",
        "outputId": "0272b51a-801b-40a6-ac91-5e185cd0a7a5"
      },
      "outputs": [
        {
          "name": "stdout",
          "output_type": "stream",
          "text": [
            "<_io.TextIOWrapper name='sample.txt' mode='rt' encoding='cp1251'>\n"
          ]
        }
      ],
      "source": [
        "# Это все одно и тоже\n",
        "f = open('sample.txt')\n",
        "f = open('sample.txt', 'r')\n",
        "f = open('sample.txt', 'rt')"
      ]
    },
    {
      "cell_type": "markdown",
      "metadata": {
        "id": "73NYHbjTyIS2"
      },
      "source": [
        "Также для текстовых файлов можно указывать конкретную кодировку"
      ]
    },
    {
      "cell_type": "code",
      "execution_count": null,
      "metadata": {
        "id": "Ttl9-5KXyIS2",
        "outputId": "326dcb48-1e0c-4b93-c319-9bd376743c3a"
      },
      "outputs": [
        {
          "name": "stdout",
          "output_type": "stream",
          "text": [
            "<_io.TextIOWrapper name='sample.txt' mode='r' encoding='cp1251'>\n"
          ]
        }
      ],
      "source": [
        "f = open('sample.txt', encoding=\"cp1251\")"
      ]
    },
    {
      "cell_type": "markdown",
      "metadata": {
        "id": "lc9Q1vVeyIS3"
      },
      "source": [
        "У файла есть следующие методы\n",
        "\n",
        "- `f.read()` - читает весь файл в одну строку\n",
        "- `f.read(N)` - читает N символов(или байт) от текущей позиции\n",
        "- `f.readline()` - читает строку до '\\n', включительно\n",
        "- `f.readlines()` - читает все строки и возвращает их список\n",
        "- `f.write(\"hi\")` - записывает символы(или байты) начиная с текущей позиции\n",
        "- `f.writelines([\"a\", \"b\"])` - записывает строки в файл\n",
        "- `f.flush()` - сбрасывает буфер на диск\n",
        "- `f.close()` - закрывает файл (автоматически сбрасывает буфер на диск)\n",
        "- `f.seek(N), f.seek(N, 0)` - перейти на позицию N в файле. Второй аргумент указывает с какого конца считать позицию(0 - от начала, 1 - от текущей позиции, 2 - с конца)\n",
        "- `f.tell()` - текущая позиция"
      ]
    },
    {
      "cell_type": "code",
      "execution_count": null,
      "metadata": {
        "id": "xTUtDlHLyIS3",
        "outputId": "f53dedcf-7e64-4255-f652-aecfe2870ebc"
      },
      "outputs": [
        {
          "name": "stdout",
          "output_type": "stream",
          "text": [
            "26 bytes\n"
          ]
        }
      ],
      "source": [
        "# очень \"неправильный\" способ получения размера файла\n",
        "\n",
        "f = open(\"sample.txt\", 'rb')\n",
        "f.seek(0, 2)\n",
        "print(f.tell(), \"bytes\")"
      ]
    },
    {
      "cell_type": "code",
      "execution_count": null,
      "metadata": {
        "id": "TNTp43MiyIS3",
        "outputId": "bbc7fb7f-a399-40af-af92-48ffe5bef878"
      },
      "outputs": [
        {
          "name": "stdout",
          "output_type": "stream",
          "text": [
            "line1\n",
            "line2\n",
            "line3\n",
            "line4\n"
          ]
        }
      ],
      "source": [
        "f = open(\"sample.txt\", 'rt')\n",
        "print(f.read())"
      ]
    },
    {
      "cell_type": "code",
      "execution_count": null,
      "metadata": {
        "id": "eK5WPH2ayIS4",
        "outputId": "9d18fcb1-6482-4d0d-913e-bc99ac3ffdbd"
      },
      "outputs": [
        {
          "data": {
            "text/plain": [
              "'line1\\nline2\\nline3\\nline4'"
            ]
          },
          "execution_count": 14,
          "metadata": {},
          "output_type": "execute_result"
        }
      ],
      "source": [
        "f.seek(0)\n",
        "f.read()"
      ]
    },
    {
      "cell_type": "code",
      "execution_count": null,
      "metadata": {
        "id": "HNGg5-X0yIS4",
        "outputId": "8df50169-97f2-4265-a651-08e8a8e4feba"
      },
      "outputs": [
        {
          "data": {
            "text/plain": [
              "'ne1\\n'"
            ]
          },
          "execution_count": 17,
          "metadata": {},
          "output_type": "execute_result"
        }
      ],
      "source": [
        "f.seek(0)\n",
        "f.readline()"
      ]
    },
    {
      "cell_type": "code",
      "execution_count": null,
      "metadata": {
        "id": "aav0uKsFyIS4",
        "outputId": "09b24068-69ee-4727-f866-a73d04b47c92"
      },
      "outputs": [
        {
          "data": {
            "text/plain": [
              "['line2\\n', 'line3\\n', 'line4']"
            ]
          },
          "execution_count": 20,
          "metadata": {},
          "output_type": "execute_result"
        }
      ],
      "source": [
        "f.seek(7)\n",
        "f.readlines()"
      ]
    },
    {
      "cell_type": "markdown",
      "metadata": {
        "id": "p5eMqZH7yIS5"
      },
      "source": [
        "Файл поддерживает протокол итераций"
      ]
    },
    {
      "cell_type": "code",
      "execution_count": null,
      "metadata": {
        "id": "8HTyZL5TyIS6",
        "outputId": "2a089c8a-cd87-443e-d767-faa8e29ec16e"
      },
      "outputs": [
        {
          "name": "stdout",
          "output_type": "stream",
          "text": [
            "'line1\\n'\n",
            "line1\n",
            "'line2\\n'\n",
            "line2\n",
            "'line3\\n'\n",
            "line3\n",
            "'line4'\n",
            "line4\n"
          ]
        }
      ],
      "source": [
        "import re\n",
        "\n",
        "f = open('sample.txt', 'r')\n",
        "\n",
        "for line in f:\n",
        "    print(repr(line))\n",
        "    line = line.rstrip()\n",
        "    #terms = map(float, line.split(\" \"))\n",
        "    # лишний перенос строки получаем из-за того, что читаем его из файла\n",
        "    #print(list(terms))\n",
        "    print(line)"
      ]
    },
    {
      "cell_type": "markdown",
      "metadata": {
        "id": "U-ofweZYyIS7"
      },
      "source": [
        "Также для записи в файл можем использовать __print()__"
      ]
    },
    {
      "cell_type": "code",
      "execution_count": null,
      "metadata": {
        "id": "3lhje7FOyIS7"
      },
      "outputs": [],
      "source": [
        "f = open('test.txt', \"w\")\n",
        "\n",
        "f.write(\"asdasdoop\")\n",
        "print(\"hello world\", end=\"!\", file=f)\n",
        "\n",
        "f.close()"
      ]
    },
    {
      "cell_type": "code",
      "execution_count": null,
      "metadata": {
        "id": "tOwJJjh2yIS7",
        "outputId": "f0227c3a-2180-4cae-fe61-46f2a6d0d171"
      },
      "outputs": [
        {
          "data": {
            "text/plain": [
              "\u001b[0;31mDocstring:\u001b[0m\n",
              "print(value, ..., sep=' ', end='\\n', file=sys.stdout, flush=False)\n",
              "\n",
              "Prints the values to a stream, or to sys.stdout by default.\n",
              "Optional keyword arguments:\n",
              "file:  a file-like object (stream); defaults to the current sys.stdout.\n",
              "sep:   string inserted between values, default a space.\n",
              "end:   string appended after the last value, default a newline.\n",
              "flush: whether to forcibly flush the stream.\n",
              "\u001b[0;31mType:\u001b[0m      builtin_function_or_method\n"
            ]
          },
          "metadata": {},
          "output_type": "display_data"
        }
      ],
      "source": [
        "print?"
      ]
    },
    {
      "cell_type": "markdown",
      "metadata": {
        "id": "0a6fTAFuyIS8"
      },
      "source": [
        "## with\n",
        "\n",
        "При работе с файлами, __важно__ не забывать закрывать их за собой, так как они открыты до тех пор, пока сборщик мусора не удалит их. Также программе разрешенно держать открытыми только ограниченное число файлов.\n",
        "\n",
        "В случае возникновения исключительных ситуаций или написании кода, нередко можно забыть закрыть за собой файл. Чтобы избежать таких проблем, Python поддерживает очень удобный оператор __with__."
      ]
    },
    {
      "cell_type": "code",
      "execution_count": null,
      "metadata": {
        "id": "9sBtWyGoyIS8"
      },
      "outputs": [],
      "source": [
        "with open(\"test.txt\", \"wb\") as f:\n",
        "    f.write(b\"\\x01\\x01\\x01\\x01\\x01\\x01\\x01\\x01\")\n",
        "\n",
        "# не нужно вызывать f.close(), так как он будет вызван автоматически при любом выходе из блока with"
      ]
    },
    {
      "cell_type": "markdown",
      "metadata": {
        "id": "hBUyCPEZyITC"
      },
      "source": [
        "# Исключения (начало)\n",
        "\n",
        "При работе программы могу происходить исключительные ситуации, которые Python не может обработать, о чем он и сообщает.\n",
        "\n",
        "Данные исключительные ситуации останавливают выполнение программы. Python предоставляет инструментарий, который позволяет перехватывать эти исключения и обрабатывать их\n",
        "\n",
        "```Python\n",
        "try:\n",
        "    <код, может произойти исключение>\n",
        "except <тип исключения>:\n",
        "    <что делать>\n",
        "except <тип исключения> as <куда поместить>:\n",
        "    <что делать>\n",
        "except:\n",
        "    <перехват любый исключений>\n",
        "finally:\n",
        "    <выполняет в конце в любом случае>\n",
        "```"
      ]
    },
    {
      "cell_type": "code",
      "execution_count": null,
      "metadata": {
        "id": "Zvx1Rfa9yITC",
        "outputId": "eeb5cc69-316b-49aa-82c5-d56b527b5046"
      },
      "outputs": [
        {
          "name": "stdout",
          "output_type": "stream",
          "text": [
            "line1\n",
            "line2\n",
            "line3\n",
            "line4\n"
          ]
        }
      ],
      "source": [
        "f = open(\"sample1.txt\")\n",
        "try:\n",
        "    pass\n",
        "finally:\n",
        "    f.close()"
      ]
    },
    {
      "cell_type": "code",
      "execution_count": null,
      "metadata": {
        "id": "vKr1MB5ZyITC",
        "outputId": "c376e1eb-b5df-4865-b8df-ecd3937b89ec"
      },
      "outputs": [
        {
          "name": "stdout",
          "output_type": "stream",
          "text": [
            "end\n"
          ]
        }
      ],
      "source": [
        "a = \"15\"\n",
        "\n",
        "try:\n",
        "    n = int(a)\n",
        "except ZeroDivisionError:\n",
        "    pass\n",
        "except ValueError:\n",
        "    print(\"Invalid input\")\n",
        "finally:\n",
        "    print(\"end\")"
      ]
    },
    {
      "cell_type": "code",
      "execution_count": null,
      "metadata": {
        "id": "R0y7iFYNyITD",
        "outputId": "2ff30be7-cc7a-4ad7-d8ae-0dee74413c47"
      },
      "outputs": [
        {
          "name": "stdout",
          "output_type": "stream",
          "text": [
            "Unknown Error\n",
            "end\n"
          ]
        }
      ],
      "source": [
        "try:\n",
        "    n = int(a)\n",
        "except:\n",
        "    print(\"Unknown Error\")\n",
        "finally:\n",
        "    print(\"end\")"
      ]
    },
    {
      "cell_type": "code",
      "execution_count": null,
      "metadata": {
        "id": "48b3rIiFyITD"
      },
      "outputs": [],
      "source": [
        "# Альтернатива with\n",
        "\n",
        "f = open(\"sample.txt\")\n",
        "\n",
        "try:\n",
        "    pass\n",
        "finally:\n",
        "    f.close()"
      ]
    },
    {
      "cell_type": "code",
      "execution_count": null,
      "metadata": {
        "id": "oslQHaYMyITD",
        "outputId": "4becec57-83e5-4446-8174-3fbb7a15b177"
      },
      "outputs": [
        {
          "name": "stdout",
          "output_type": "stream",
          "text": [
            "There is no file\n"
          ]
        }
      ],
      "source": [
        "try:\n",
        "    f = open(\"asd.txt\")\n",
        "except FileNotFoundError:\n",
        "    print(\"There is no file\")"
      ]
    },
    {
      "cell_type": "code",
      "execution_count": null,
      "metadata": {
        "id": "dInFdqzUyITD",
        "outputId": "82a06a1e-d82e-4214-97e5-94929f569159"
      },
      "outputs": [
        {
          "name": "stdout",
          "output_type": "stream",
          "text": [
            "(6, 0) (4, 0)\n",
            "(3, 1) (10, 1)\n",
            "(9, 2) (4, 2)\n",
            "(5, 3) (7, 3)\n",
            "(6, 4) (2, 4)\n",
            "(1, 5) (3, 5)\n",
            "(2, 6) (3, 6)\n",
            "(2, 7) (0, 7)\n",
            "(6, 8) (6, 8)\n",
            "(4, 9) (10, 9)\n",
            "[(6, 4, 0), (3, 10, 1), (9, 4, 2), (5, 7, 3), (6, 2, 4), (1, 3, 5), (2, 3, 6), (2, 0, 7), (6, 6, 8), (4, 10, 9)]\n"
          ]
        }
      ],
      "source": [
        "import random\n",
        "\n",
        "test1 = [(random.randint(0, 10), n) for n in range(10)]\n",
        "test2 = [(random.randint(0, 10), n) for n in range(10)]\n",
        "\n",
        "test1.append(test2[4])\n",
        "\n",
        "\n",
        "tmp = []\n",
        "for t1, t2 in zip(test1, test2):\n",
        "    print(t1, t2)\n",
        "    tmp.append((t1[0], t2[0], t2[1]))\n",
        "\n",
        "\n",
        "for i in range(len(test1)):\n",
        "    t1 = test1[i]\n",
        "    t2 = test2[i]\n",
        "    tmp.append((t1[0], t2[0], t2[1]))\n",
        "\n",
        "print(tmp)"
      ]
    }
  ],
  "metadata": {
    "kernelspec": {
      "display_name": "Python 3",
      "language": "python",
      "name": "python3"
    },
    "language_info": {
      "codemirror_mode": {
        "name": "ipython",
        "version": 3
      },
      "file_extension": ".py",
      "mimetype": "text/x-python",
      "name": "python",
      "nbconvert_exporter": "python",
      "pygments_lexer": "ipython3",
      "version": "3.8.5"
    },
    "colab": {
      "provenance": []
    }
  },
  "nbformat": 4,
  "nbformat_minor": 0
}